{
 "cells": [
  {
   "cell_type": "markdown",
   "id": "34621d48",
   "metadata": {},
   "source": [
    "# Lesson 3: Floats, Byte-Size, Type-Conversion\n",
    "**Mark Vuorela**  \n",
    "*9/13/2023*\n",
    "\n",
    "## Introduction\n",
    "\n",
    "We will continue learning about one of the primitive data types: the float. We will also look at datatype size and binary numbers.\n",
    "\n",
    "### Part 1: Formatting Your Document (guided)\n",
    "#### Example 1.1:\n",
    "Using the **Quote** formatting.\n",
    "> Lorem ipsum dolor sit amet, consectetur adipiscing elit, sed do eiusmod tempor incididunt ut labore et dolore magna aliqua.\n",
    "\n",
    "As you can see, this indents the text one level. Use this formatting option for any of your written answers.\n",
    "\n",
    "#### Example 1.2:\n",
    "Apply the **Code Block** style to the code below using a tripple grave symbol \\`\\`\\`\n",
    "\n",
    "```\n",
    "int x = 0;\n",
    "while(x++ < 5)\n",
    "   cout << x << endl;\n",
    "}\n",
    "```\n",
    "\n",
    "We can use this to include short code snippets in our text (that will not be executed). We won't use this often for blocks of code, mainly we will use it to distinguish single lines of code.\n",
    "\n",
    "#### Example 1.3:\n",
    "We can also do **inline code** using single graves \\` when we want to highlight short code snippets like `cout << `.\n",
    "\n",
    "#### Question 1.a:\n",
    "When you submit this file, what will the filename be? (Use the WrittenAnswer style for your answer)\n",
    ">royVan_floats.ipynb\n"
   ]
  },
  {
   "cell_type": "markdown",
   "id": "ff0c3035",
   "metadata": {},
   "source": [
    "## Part 2: Datatype - float\n",
    "\n",
    "For example we can enter \n",
    "`float x = 0.95;`  \n",
    "to declare and ininialize a floating point number."
   ]
  },
  {
   "cell_type": "markdown",
   "id": "7d64d76a-a8f6-499a-9e00-c85165791af2",
   "metadata": {},
   "source": [
    "Float supports all the same binary operations as the integer types except modulo division. Let’s do a few examples, but first let's setup a new program by including the `iostream` library. "
   ]
  },
  {
   "cell_type": "code",
   "execution_count": null,
   "id": "e3c34bc3-ce56-426c-94d7-8c19630a42e9",
   "metadata": {},
   "outputs": [],
   "source": [
    "#include <iostream>\n",
    "\n",
    "using namespace std;"
   ]
  },
  {
   "cell_type": "markdown",
   "id": "12f4c8b1",
   "metadata": {},
   "source": [
    "#### Example 2.1:\n",
    "Run the following line of code to see what the output is:"
   ]
  },
  {
   "cell_type": "code",
   "execution_count": null,
   "id": "d80f5a7b",
   "metadata": {},
   "outputs": [],
   "source": [
    "cout << 1.0 / 3.0 << endl;"
   ]
  },
  {
   "cell_type": "markdown",
   "id": "d164619f",
   "metadata": {},
   "source": [
    "Notice that in c++ we see the decimal approximation of the fraction $\\frac{1}{3}$.\n",
    "\n",
    "#### Question 2.a:\n",
    "Run the following block of code and then answer the question below."
   ]
  },
  {
   "cell_type": "code",
   "execution_count": null,
   "id": "71b20bf7",
   "metadata": {},
   "outputs": [],
   "source": [
    "float a = 5;\n",
    "float b = 4;\n",
    "float c = 5/4;\n",
    "\n",
    "cout << \"5/4 = \" << 5/4 << endl;\n",
    "cout << \"c = \" << c << endl;\n",
    "cout << \"5.0/4 = \" << 5.0/4 << endl;\n",
    "cout << \"5/4.0 = \" << 5/4.0 << endl;\n",
    "cout << \"a/b = \" << a/b << endl;\n"
   ]
  },
  {
   "cell_type": "markdown",
   "id": "5a3dc416",
   "metadata": {},
   "source": [
    "In the above block of code, you see several examples of division involving literals (actual numbers: 5 and 4) and variables (a, b and c). In the above examples, when is the division operation integer division and when is it floating point division?           \n",
    "> Integer division: `cout << \"5/4 = \" << 5/4 << endl;`, `cout << \"c = \" << c << endl;`\n",
    ">\n",
    "> Float division: `cout << \"5.0/4 = \" << 5.0/4 << endl;`, `cout << \"5/4.0 = \" << 5/4.0 << endl;`, `cout << \"a/b = \" << a/b << endl;`\n",
    ">\n",
    "> When the calculation contains **decimals**, it is a **float division**, otherwise it is an **integer division**."
   ]
  },
  {
   "cell_type": "markdown",
   "id": "0a0d858e",
   "metadata": {},
   "source": [
    "## Part 3: Memory Size\n",
    "\n",
    "Research the following computer terms:\n",
    "\n",
    "#### Question 3.a\n",
    "Define: Bit\n",
    "> Bit is the smallest unit of the computer, it is represented by \"0\" and \"1\"\n",
    "\n",
    "#### Question 3.b\n",
    "Define: Byte\n",
    "> 1 Byte = 8 Bits, a byte can also represent a character or a number.\n",
    "> >\n",
    "> A Chinese character is two bytes."
   ]
  },
  {
   "cell_type": "markdown",
   "id": "0850ef4f",
   "metadata": {},
   "source": [
    "#### Question 3.c\n",
    "Consider the following code chunk:"
   ]
  },
  {
   "cell_type": "code",
   "execution_count": null,
   "id": "4b325c5c",
   "metadata": {},
   "outputs": [],
   "source": [
    "cout << \"sizeof(char)  = \" << sizeof(char) << endl;\n",
    "cout << \"sizeof(int)   = \" << sizeof(int) << endl;\n",
    "cout << \"sizeof(float) = \"  << sizeof(float) << endl;"
   ]
  },
  {
   "cell_type": "markdown",
   "id": "418b7c3c",
   "metadata": {},
   "source": [
    "Research the `sizeof()` function and explain what it returns:\n",
    "> The **sizeof** operator in C++ returns the memory size (in bytes) of a data type or object, it is evaluated at compile time hence won't affect the execution speed."
   ]
  },
  {
   "cell_type": "markdown",
   "id": "cfccfe1f",
   "metadata": {},
   "source": [
    "#### Question 3.d\n",
    "Create a C++ program that uses the `sizeof()` function to give the ***exact output*** as the example below:  \n",
    "`Integers:`  \n",
    "`Data Type    Bytes`  \n",
    "`-------------------`  \n",
    "`int           4`  \n",
    "`char          1`  \n",
    "`bool          1`  \n",
    "`short int     2`  \n",
    "`unsigned int  4`  \n",
    "\n",
    "`Floating-Point:`  \n",
    "`Data Type    Bytes`  \n",
    "`-------------------`  \n",
    "`float         4`  \n",
    "`double        8`  \n"
   ]
  },
  {
   "cell_type": "code",
   "execution_count": null,
   "id": "a34e4794-eb06-4c40-b330-2b75d16572a9",
   "metadata": {},
   "outputs": [],
   "source": [
    "#include <iostream>\n",
    "using namespace std;\n",
    "int main()\n",
    "{\n",
    "    // Print the titles\n",
    "    cout << \"Integers:\" << endl;\n",
    "    cout << \"Data Type     Bytes\" << endl;\n",
    "    cout << \"-------------------\" << endl;\n",
    "\n",
    "    // Using \"sizeof\" function to output the memory size(in bytes) of data types \n",
    "    cout << \"int\\t\\t\" << sizeof(int) << endl;\n",
    "    cout << \"char\\t\\t\" << sizeof(char) << endl;\n",
    "    cout << \"bool\\t\\t\" << sizeof(bool) << endl;\n",
    "    cout << \"short int\\t\" << sizeof(short int) << endl;\n",
    "    cout << \"unsigned int\\t\" << sizeof(unsigned int) << endl;\n",
    "\n",
    "    // Print the titles\n",
    "    cout << \"\\nFloating-Point:\" << endl;\n",
    "    cout << \"Data Type     Bytes\" << endl;\n",
    "    cout << \"-------------------\" << endl;\n",
    "\n",
    "    // Using \"sizeof\" function to output the memory size(in bytes) of data types \n",
    "    cout << \"float\\t\\t\" << sizeof(float) << endl;\n",
    "    cout << \"double\\t\\t\" << sizeof(double) << endl;\n",
    "\n",
    "    return 0;\n",
    "}"
   ]
  },
  {
   "cell_type": "markdown",
   "id": "35d4792d",
   "metadata": {},
   "source": [
    "## Part 4: Binary Numbers\n",
    "\n",
    "Binary numbers are the base-2 represention of numbers. Everyday numbers we use are in base-10. We just don't usually write the base when we express base 10 numbers. For example, most cars have $4_{10}$ wheels and the tallest building in the world is $828_{10} m$.\n",
    "\n",
    "\n",
    "### Converting from base-2 to base-10\n",
    "\n",
    "The number in a base-10 number can be expanded as follows: \n",
    "\n",
    "$827_{10} = 8 \\times 10^2 + 2 \\times 10 + 7$\n",
    "\n",
    "We can do something similar for base-2 numbers:\n",
    "\n",
    "$1011001_2 =  1 \\times 2^6 + 0 \\times 2^5 +1 \\times 2^4 + 1 \\times 2^3 + 0 \\times 2^2 + 0 \\times 2 + 1$\n",
    "\n",
    "\n",
    "### Converting from base-10 to base-2\n",
    "Converting from base-10 to base-2 is slightly more complicated, so I'll show you a method in class.\n",
    "\n",
    "\n",
    "#### Question 4.a:\n",
    "Convert the binary number 101110001 to decimal.\n",
    "\n",
    "$2^8+2^6+2^5+2^4+1=369$\n",
    "> Answer: 369\n",
    "\n",
    "Convert the decimal number 5581 to binary.\n",
    "> Answer: 1010111001101\n",
    "\n",
    "Complete the binary representations of the numbers in the following table:\n",
    "\n",
    "| binary | decimal | hexadecimal |\n",
    "| :-:  | :-:| :-: |\n",
    "| 0000 | 0  | 0 | \n",
    "| 0001 | 1  | 1 |\n",
    "| 0010 | 2  | 2 |\n",
    "| 0011 | 3  | 3 |\n",
    "| 0100 | 4  | 4 |\n",
    "| 0101 | 5  | 5 |\n",
    "| 0110 | 6  | 6 |\n",
    "| 0111 | 7  | 7 |\n",
    "| 1000 | 8  | 8 |\n",
    "| 1001 | 9  | 9 |\n",
    "| 1010 | 10 | A |\n",
    "| 1011 | 11 | B |\n",
    "| 1100 | 12 | C |\n",
    "| 1101 | 13 | D |\n",
    "| 1110 | 14 | E |\n",
    "| 1111 | 15 | F |\n",
    "\n"
   ]
  },
  {
   "cell_type": "markdown",
   "id": "03a679fc",
   "metadata": {},
   "source": [
    "#### Example 4.1\n",
    "\n",
    "In C++ we can specify a binary number using `0b` in front of the number. Note that when we output the number though, it will default to decimal. Run the following line of code to see what happens."
   ]
  },
  {
   "cell_type": "code",
   "execution_count": 6,
   "id": "a5d766ff",
   "metadata": {},
   "outputs": [
    {
     "name": "stdout",
     "output_type": "stream",
     "text": [
      "0b1010011 = 83\n"
     ]
    }
   ],
   "source": [
    "cout << \"0b1010011 = \" << 0b1010011 << endl;"
   ]
  },
  {
   "cell_type": "markdown",
   "id": "fd728d6c",
   "metadata": {},
   "source": [
    "# Part 5: Getting values from the console\n",
    "\n",
    "Sometimes it's useful to be able to prompt for a new value. For example, the following code finds the $n^{th}$ triangle number:\n",
    "\n",
    "$\\{t_1, t_2, t_3, t_4, t_5, ...\\} = \\{1, 3, 6, 10, 15, ...\\}$\n",
    "\n",
    "Where n is supplied by the user of this program. Note that this method for getting input will be far more useful later in this course.\n",
    "\n",
    "#### Example 5.1"
   ]
  },
  {
   "cell_type": "code",
   "execution_count": 18,
   "id": "f658f3d9",
   "metadata": {},
   "outputs": [
    {
     "name": "stdout",
     "output_type": "stream",
     "text": [
      "What triangle number would you like to find? 17\n",
      "t_17 = 153\n"
     ]
    }
   ],
   "source": [
    "int n;\n",
    "cout << \"What triangle number would you like to find? \";\n",
    "cin >> n;\n",
    "\n",
    "cout << \"t_\" << n << \" = \" << n * (n + 1)/2 << endl;"
   ]
  },
  {
   "cell_type": "markdown",
   "id": "e4cfd77f",
   "metadata": {},
   "source": [
    "#### Question 5a\n",
    "Write a code chunk that prompts the user for $n$ using `cin >> ` then displays the $n^{th}$ number in the following arithmetic sequence: $11, 15, 19, 23, ...$\n",
    "\n",
    "The code will be similar to Example 5.1."
   ]
  },
  {
   "cell_type": "code",
   "execution_count": 19,
   "id": "964ec1b4",
   "metadata": {},
   "outputs": [],
   "source": [
    "#include <iostream>\n",
    "using namespace std;\n",
    "int main()\n",
    "{\n",
    "    // Declaring an integer n to store the user's request\n",
    "    int n;\n",
    "\n",
    "    // Asking users for their requests i.e, which term of the arithmetic sequence does the user want\n",
    "    cout << \"You want to find the nth term of the arithmetic sequence \\\"11,15,19,23,...\\\"? \";\n",
    "\n",
    "    // Storing user's input\n",
    "    cin >> n;\n",
    "\n",
    "    // Calculating the expected result and display it to the user.\n",
    "    cout << \"t_\" << n << \"=\" << 11+4*(n-1) << endl; \n",
    "\n",
    "    return 0;\n",
    "}"
   ]
  },
  {
   "cell_type": "markdown",
   "id": "56c0debb",
   "metadata": {},
   "source": [
    "#### Question 5b\n",
    "Write a code chunk that prompts the user for $n$ using `cin >> ` then displays the sum of the first $n$ terms in the following arithmetic series: \n",
    "$2 + 5 + 8 + 11 + ...$"
   ]
  },
  {
   "cell_type": "code",
   "execution_count": 20,
   "id": "889e8cfc",
   "metadata": {},
   "outputs": [],
   "source": [
    "#include <iostream>\n",
    "using namespace std;\n",
    "int main()\n",
    "{\n",
    "    // Declaring an integer n to store user's input\n",
    "    int n;\n",
    "\n",
    "    // Requesting user to input the number of n\n",
    "    cout << \"You want to find the sum of first nth term in the arithmetic series \\\"2+5+8+11+...\\\"? \";\n",
    "\n",
    "    // Storing user's input\n",
    "    cin >> n;\n",
    "\n",
    "    // Print the result to user after doing calculations\n",
    "    cout << \"Sum of first \" << n << \" terms = \" << n*(3*n+1)/2 << endl;\n",
    "\n",
    "    return 0;\n",
    "}"
   ]
  },
  {
   "cell_type": "markdown",
   "id": "710f1757",
   "metadata": {},
   "source": [
    "#### Question 5c\n",
    "Write a code chunk that prompts the user for $n$ using `cin >> ` then displays the $n^{th}$ number in the following geometric sequence: $3, 6, 12, 24, ...$\n",
    "\n",
    "*Note, this will probably not work with large values of $n$*\n"
   ]
  },
  {
   "cell_type": "code",
   "execution_count": 21,
   "id": "9de478dc",
   "metadata": {},
   "outputs": [],
   "source": [
    "#include <iostream>\n",
    "\n",
    "// Import the Math library for C++\n",
    "#include <cmath> \n",
    "                          \n",
    "using namespace std;\n",
    "int main()\n",
    "{\n",
    "    // Declaring an integer n to store user's input\n",
    "    int n;\n",
    "\n",
    "    // Asking user which term in the geometric sequence he want\n",
    "    cout << \"You want the nth term in the geometric sequence \\\"3,6,12,24,...\\\" \";\n",
    "\n",
    "    // Store the input as n\n",
    "    cin >> n;\n",
    "\n",
    "    // Go through the math calculations and print out the result\n",
    "    cout << \"t_\" << n << \"=\" << 3*pow(2,n-1) << endl; // pow(base,exponent);\n",
    "\n",
    "    return 0;\n",
    "}"
   ]
  },
  {
   "cell_type": "markdown",
   "id": "ab5a8220-3f76-4853-b7e8-6c83b5d8375b",
   "metadata": {},
   "source": [
    "|## Part 6: Exercises"
   ]
  },
  {
   "cell_type": "markdown",
   "id": "04c42bc1-7b0f-4ae6-b2aa-0cbdd9783d14",
   "metadata": {},
   "source": [
    "#### Exercise 6.1 Fourth Root of 1,728.896400\n",
    "Write, compile, and run a C++ program that calculates and returns the fourth root of the number 81.0, which is 3. \n",
    "\n",
    "After verifying that your program works correctly, use it to determine the fourth root of 1,728.896400. \n",
    "\n",
    "Your program should make use of the `sqrt()` function or use the fact that the fourth root of a value can be obtained by raising the value to the $\\frac{1}{4} power."
   ]
  },
  {
   "cell_type": "code",
   "execution_count": null,
   "id": "c9ccc3d9-8836-4608-b5b2-3b53b316a2c1",
   "metadata": {},
   "outputs": [],
   "source": [
    "#include <iostream>\n",
    "#include <cmath>\n",
    "using namespace std;\n",
    "int main()\n",
    "{\n",
    "    // Declaring n in the type of float and result in the type of float\n",
    "    float n;\n",
    "    float result;\n",
    "\n",
    "    // Assigning the base of the calculation to the variable named n\n",
    "    n = 1728.896400;\n",
    "\n",
    "    // Applying the formula of the calculation\n",
    "    // Here, it is to get result when n is known\n",
    "    result = pow(n,0.25);\n",
    "\n",
    "    // Printing result\n",
    "    cout << \"The fourth root of 1728.896400 is \" << result << endl;\n",
    "\n",
    "    return 0;\n",
    "}"
   ]
  },
  {
   "cell_type": "markdown",
   "id": "0c69bb65-fcb4-4624-a9ed-3a2c764e67b5",
   "metadata": {},
   "source": [
    "#### Exercise 6.2 Distance between (7,12) and (3,9)\n",
    "Write, compile, and run a C++ program to calculate the distance between two points with the coordinates (7, 12) and (3, 9). Use the fact that the distance between two points with the coordinates (x1, y1) and (x2, y2) is given by this formula:\n",
    "\n",
    "$$distance= \\sqrt{(x_2−x_1)^2+(y_2−y_1)^2}$$\n"
   ]
  },
  {
   "cell_type": "code",
   "execution_count": null,
   "id": "a088ecf3-bd15-417f-bdcc-0c8e4af33793",
   "metadata": {},
   "outputs": [],
   "source": [
    "#include <iostream>\n",
    "#include <cmath>\n",
    "using namespace std;\n",
    "int main()\n",
    "{\n",
    "    // Declaring x1, x2, y1, y2 in the type of integer, and assigning values to them\n",
    "    int x1 = 7;\n",
    "    int x2 = 3;\n",
    "    int y1 = 12;\n",
    "    int y2 = 9;\n",
    "\n",
    "    // Declaring result in the type of float\n",
    "    // Applying math formula to get the answer to this question\n",
    "    // Let float result equal to the answer to this question\n",
    "    float result = sqrt(pow(x2-x1,2)+pow(y2-y1,2)); \n",
    "\n",
    "    // Printing result\n",
    "    cout << \"Distance between (7,12) and (3,9) is \" << result << endl;\n",
    "\n",
    "    return 0;\n",
    "}"
   ]
  },
  {
   "cell_type": "markdown",
   "id": "559e0829-7322-4e1d-af82-8834896748d9",
   "metadata": {},
   "source": [
    "#### Exercise 6.3 Radioactive Isotope remaining after 1000 years\n",
    "\n",
    "\n",
    "A model to estimate the number of grams of a radioactive isotope left after t years is given by this formula:\n",
    "\n",
    "$$remaining= (original)e^{−0.00012t}$$\n",
    "Using this formula, write, compile, and run a C++ program to determine the amount of radioactive material remaining after 1000 years, assuming an initial amount of 100 grams.\n"
   ]
  },
  {
   "cell_type": "code",
   "execution_count": null,
   "id": "c5feda00-33e7-442d-9361-47aef6563d9c",
   "metadata": {},
   "outputs": [],
   "source": [
    "const float E = 2.7182818;"
   ]
  },
  {
   "cell_type": "code",
   "execution_count": null,
   "id": "fe223dc3-ace8-42e7-ab30-6521b340bfe1",
   "metadata": {},
   "outputs": [],
   "source": [
    "#include <iostream>\n",
    "#include <cmath>\n",
    "using namespace std;\n",
    "int main()\n",
    "{\n",
    "    // o: original; the \"radioactive isotope\" starts with 100 grams.\n",
    "    int o = 100; \n",
    "\n",
    "    // Define the constant E that will be used in the calculation, in the type of float\n",
    "    const float E = 2.7182818;\n",
    "\n",
    "    // r: remaining; declare r to store the result after calculations\n",
    "    float r = o*pow(E,-0.00012*1000); \n",
    "\n",
    "    // Output the result r\n",
    "    cout << \"The amount of radioactive material remaining after 1000 years is \" << r << endl;\n",
    "\n",
    "    return 0;\n",
    "}"
   ]
  }
 ],
 "metadata": {
  "kernelspec": {
   "display_name": "Python 3 (ipykernel)",
   "language": "python",
   "name": "python3"
  },
  "language_info": {
   "codemirror_mode": {
    "name": "ipython",
    "version": 3
   },
   "file_extension": ".py",
   "mimetype": "text/x-python",
   "name": "python",
   "nbconvert_exporter": "python",
   "pygments_lexer": "ipython3",
   "version": "3.12.0"
  }
 },
 "nbformat": 4,
 "nbformat_minor": 5
}
