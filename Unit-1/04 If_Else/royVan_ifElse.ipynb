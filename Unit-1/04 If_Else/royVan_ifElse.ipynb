{
 "cells": [
  {
   "cell_type": "markdown",
   "id": "6f737423-1912-48b7-b3c2-c9dbc87748e4",
   "metadata": {},
   "source": [
    "# Lesson 3: Floats, Byte-Size, Type-Conversion"
   ]
  },
  {
   "cell_type": "markdown",
   "id": "c9140885",
   "metadata": {},
   "source": [
    "## Exercise 1:\n",
    "Write a C++ Block that asks the user to input two different integers. Assume that the user enters integers correctly. If the first number is greater than the second number, the program should print the message, \"The first number is bigger.\" Otherwise, the program should print the message, \"The first number is not bigger.\""
   ]
  },
  {
   "cell_type": "code",
   "execution_count": null,
   "id": "38515c5f",
   "metadata": {},
   "outputs": [],
   "source": [
    "#include <iostream>\n",
    "using namespace std;\n",
    "\n",
    "int main()\n",
    "{\n",
    "    int userInput_1,userInput_2;\n",
    "\n",
    "    cout << \"Enter a number: \\n\";\n",
    "    cin >> userInput_1;\n",
    "\n",
    "    cout << \"Enter a different number: \\n\";\n",
    "    cin >> userInput_2;\n",
    "\n",
    "    if (userInput_1 > userInput_2)\n",
    "            cout << \"The first number is greater.\\n\";\n",
    "    else\n",
    "            cout << \"The first number is smaller.\\n\";\n",
    "\n",
    "    return 0;\n",
    "\n",
    "}"
   ]
  },
  {
   "cell_type": "markdown",
   "id": "8c2f002b",
   "metadata": {},
   "source": [
    "## Exercise 2:\n",
    "A leap year is a year with an extra day: February 29th. We are going to write a code block to determine which years are leap and which years are not:\n",
    "Years that are divisible by 400 or are divisible by 4 but not 100 are considered leap years. For example: \n",
    " - 1904: Yes, divisible by 4 but not 100\n",
    " - 2000: Yes, divisible by 400\n",
    " - 1888: Yes, divisible by 4 but not 100\n",
    " - 1905: No, not divisible by 4 (or 400)\n",
    " - 1900: No, divisible by 4 and 100 but not 400\n",
    " - 2100: No, divisible by 4 and 100 but not 400\n",
    " - 1894: No, not divisible by 4 (or 400)\n",
    " \n",
    "Using this information, write a C++ code block that accepts the year as user input, then determines whether the year is a leap year or not. Give a meaningful message to the user.\n",
    "\n",
    "Test your program with the numbers above."
   ]
  },
  {
   "cell_type": "code",
   "execution_count": null,
   "id": "070eeb79",
   "metadata": {},
   "outputs": [],
   "source": [
    "#include <iostream>\n",
    "#include <cmath>\n",
    "using namespace std;\n",
    "\n",
    "int main()\n",
    "{\n",
    "    int inputYear;\n",
    "\n",
    "    cout << \"Ender a year: \\n\";\n",
    "    cin >> inputYear;\n",
    "\n",
    "    if ((inputYear % 400 == 0) || ((inputYear % 4 == 0) && (inputYear % 100 != 0)))\n",
    "        cout << inputYear << \" is a leap year.\\n\";\n",
    "    else\n",
    "        cout << inputYear << \" is not a leap year.\\n\";\n",
    "\n",
    "    return 0;\n",
    "\n",
    "}"
   ]
  },
  {
   "cell_type": "markdown",
   "id": "871bfa62",
   "metadata": {},
   "source": [
    "## Exercise 3:\n",
    "Write a C++ block to display a person's weekly salary based on the following structure:\n",
    " - If the hours worked are less than or equal to 40, the person recieves \\\\$12.00 per hour\n",
    " - Otherwise, the person recieves \\\\$480.00 plus \\\\$18.00 per hour for each hour worked over 40 hours\n",
    " \n",
    "Your code block should request the hours worked as input and then display the salary as output."
   ]
  },
  {
   "cell_type": "code",
   "execution_count": null,
   "id": "a0a9d96b",
   "metadata": {},
   "outputs": [],
   "source": [
    "#include <iostream>\n",
    "using namespace std;\n",
    "\n",
    "int main()\n",
    "{\n",
    "    int hoursWorked;\n",
    "\n",
    "    cout << \"How long have you worked this week? \\n\";\n",
    "    cin >> hoursWorked;\n",
    "\n",
    "    if (hoursWorked <= 40)\n",
    "        cout << \"The weekly salary you will receive is $\" << 12*hoursWorked << endl;\n",
    "    else\n",
    "        cout << \"The weekly salary you will receive is $\" << 480+(hoursWorked-40)*18 << endl;\n",
    "\n",
    "    return 0;\n",
    "}"
   ]
  }
 ],
 "metadata": {
  "kernelspec": {
   "display_name": "Python 3 (ipykernel)",
   "language": "python",
   "name": "python3"
  },
  "language_info": {
   "codemirror_mode": {
    "name": "ipython",
    "version": 3
   },
   "file_extension": ".py",
   "mimetype": "text/x-python",
   "name": "python",
   "nbconvert_exporter": "python",
   "pygments_lexer": "ipython3",
   "version": "3.12.0"
  }
 },
 "nbformat": 4,
 "nbformat_minor": 5
}
