{
 "cells": [
  {
   "cell_type": "markdown",
   "id": "2d2345cd-07b5-4e61-9f3f-d792c6df642c",
   "metadata": {},
   "source": [
    "# Lesson 4: Number Systems"
   ]
  },
  {
   "cell_type": "markdown",
   "id": "9aa50486-754d-4a2e-a12b-d366b6972857",
   "metadata": {},
   "source": [
    "#### Programming Exercise 0:\n",
    "Write a C++ program to calculate and display the value of the slope of the line connecting two points.\n",
    "$$slope=(y_2-y_1)/(x_2-x_1)$$\n",
    "Prompt the user and use cin>>... to get each point (assume the user enters valid numbers)"
   ]
  },
  {
   "cell_type": "code",
   "execution_count": null,
   "id": "11cc5c85-dec1-4775-bc95-ca325ef93af1",
   "metadata": {},
   "outputs": [],
   "source": [
    "#include <iostream>\n",
    "#include <cmath>\n",
    "using namespace std;\n",
    "\n",
    "int main(){\n",
    "    // Define the types of variables\n",
    "    float x1, x2, y1, y2;\n",
    "\n",
    "    // Ask users to put in the coordinates of x, y\n",
    "    cout << \"Enter x for the first point \";\n",
    "    cin >> x1;\n",
    "    cout << \"Enter y for the first point \";\n",
    "    cin >> y1;\n",
    "    cout << \"Enter x for the second point \";\n",
    "    cin >> x2;\n",
    "    cout << \"Enter y for the second point \";\n",
    "    cin >> y2;\n",
    "\n",
    "    // Apply the formula and return the slope of two points\n",
    "    cout << \"The slope of the line connecting two points is \" << (y2-y1)/(x2-x1) << endl;\n",
    "\n",
    "    return 0;\n",
    "}"
   ]
  },
  {
   "cell_type": "markdown",
   "id": "26def1a9-145d-4bdf-9d6f-7e6ae363e747",
   "metadata": {},
   "source": [
    "#### Programming Exercise 1:\n",
    "Fourth Root of 1,728.896400\n",
    "\n",
    "Write, compile, and run a C++ program that calculates and returns the fourth root of the number 81.0, which is 3. \n",
    "\n",
    "After verifying that your program works correctly, use it to determine the fourth root of 1,728.896400. \n",
    "\n",
    "Your program should make use of the `sqrt()` function or use the fact that the fourth root of a value can be obtained by raising the value to the $\\frac{1}{4} power."
   ]
  },
  {
   "cell_type": "code",
   "execution_count": null,
   "id": "fdec0f90-ac91-4317-b5ed-f65928890243",
   "metadata": {},
   "outputs": [],
   "source": [
    "#include <iostream>\n",
    "#include <cmath>\n",
    "using namespace std;\n",
    "\n",
    "int main(){\n",
    "\n",
    "    // Declare a and r in the type of float\n",
    "    float a = 1728.896400;\n",
    "    float r = sqrt(sqrt(a));\n",
    "\n",
    "    /* The following calculation is equivalent to using double \"sqrt\"\n",
    "    float r2 = pow(a,0.25);*/\n",
    "\n",
    "    // Due to the limitation of float's precision, computer rounds the number\n",
    "    // \"Double\" has a higher precision\n",
    "    cout << \"The fourth root of \" << a << \" is \" << r << endl;\n",
    "    \n",
    "    return 0;\n",
    "}"
   ]
  },
  {
   "cell_type": "markdown",
   "id": "489e4c9b-c035-491c-aa80-db02fc2f96cf",
   "metadata": {},
   "source": [
    "#### Programming Exercise 2:\n",
    "\n",
    "Distance between (7,12) and (3,9)\n",
    "\n",
    "Write, compile, and run a C++ program to calculate the distance between two points with the coordinates (7, 12) and (3, 9). Use the fact that the distance between two points with the coordinates (x1, y1) and (x2, y2) is given by this formula:\n",
    "\n",
    "$$distance= \\sqrt{(x_2−x_1)^2+(y_2−y_1)^2}$$"
   ]
  },
  {
   "cell_type": "code",
   "execution_count": null,
   "id": "94a3b9ff-240c-4d49-8587-a0920a0f5046",
   "metadata": {},
   "outputs": [],
   "source": [
    "#include <iostream>\n",
    "#include <cmath>\n",
    "using namespace std;\n",
    "int main(){\n",
    "    // Declaring x1, x2, y1, y2 in the type of integer, and assigning values to them\n",
    "    int x1 = 7;\n",
    "    int x2 = 3;\n",
    "    int y1 = 12;\n",
    "    int y2 = 9;\n",
    "\n",
    "    // Declaring result in the type of float\n",
    "    // Applying math formula to get the answer to this question\n",
    "    // Let float result equal to the answer to this question\n",
    "    float result = sqrt(pow(x2-x1,2)+pow(y2-y1,2)); \n",
    "\n",
    "    // Printing result\n",
    "    cout << \"Distance between (7,12) and (3,9) is \" << result << endl;\n",
    "\n",
    "    return 0;\n",
    "}"
   ]
  },
  {
   "cell_type": "markdown",
   "id": "e76e1f8e-19d5-4828-8998-59438831d54d",
   "metadata": {},
   "source": [
    "#### Programming Exercise 3: \n",
    "\n",
    "Radioactive Isotope remaining after 1000 years\n",
    "\n",
    "A model to estimate the number of grams of a radioactive isotope left after t years is given by this formula:\n",
    "\n",
    "$$remaining= (original)e^{−0.00012t}$$\n",
    "Using this formula, write, compile, and run a C++ program to determine the amount of radioactive material remaining after 1000 years, assuming an initial amount of 100 grams.\n"
   ]
  },
  {
   "cell_type": "code",
   "execution_count": null,
   "id": "3bd89235-4c49-4ddc-8ed2-2d6c350fe6fc",
   "metadata": {},
   "outputs": [],
   "source": [
    "#include <iostream>\n",
    "#include <cmath>\n",
    "using namespace std;\n",
    "int main(){\n",
    "    // o: original; the \"radioactive isotope\" starts with 100 grams.\n",
    "    int o = 100;\n",
    "\n",
    "    // Define the constant E that will be used in the calculation, in the type of float\n",
    "    const float E = 2.7182818;\n",
    "\n",
    "    // r: remaining; declare r to store the result after calculations\n",
    "    float r = o*pow(E,-0.00012*1000);\n",
    "\n",
    "    // Output the result r\n",
    "    cout << \"The amount of radioactive material remaining after 1000 years is \" << r << \" grams\" << endl;\n",
    "\n",
    "    return 0;\n",
    "}"
   ]
  }
 ],
 "metadata": {
  "kernelspec": {
   "display_name": "Python 3 (ipykernel)",
   "language": "python",
   "name": "python3"
  },
  "language_info": {
   "codemirror_mode": {
    "name": "ipython",
    "version": 3
   },
   "file_extension": ".py",
   "mimetype": "text/x-python",
   "name": "python",
   "nbconvert_exporter": "python",
   "pygments_lexer": "ipython3",
   "version": "3.12.0"
  }
 },
 "nbformat": 4,
 "nbformat_minor": 5
}
