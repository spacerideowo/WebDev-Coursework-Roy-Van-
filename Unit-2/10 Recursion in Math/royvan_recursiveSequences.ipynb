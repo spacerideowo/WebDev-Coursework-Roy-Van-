{
 "cells": [
  {
   "cell_type": "markdown",
   "id": "2a815510",
   "metadata": {},
   "source": [
    "# Recursive Sequences"
   ]
  },
  {
   "cell_type": "code",
   "execution_count": 1,
   "id": "c202c5c3",
   "metadata": {
    "trusted": false
   },
   "outputs": [],
   "source": [
    "#include <iostream>\n",
    "using namespace std;\n",
    "\n",
    "const int TERMS = 6;"
   ]
  },
  {
   "cell_type": "markdown",
   "id": "a49f18e7",
   "metadata": {},
   "source": [
    "## Intstructions\n",
    "\n",
    "For each of the questions on the Recursive Sequences Worksheet listed below, do the following 4 steps:\n",
    "\n",
    "1. Type the recursive sequence using math syntax. A useful website to help with this is: https://latex.codecogs.com/eqneditor/editor.php\n",
    "2. Find the first 6 terms.\n",
    "3. Create a c++ function that implements the recursive sequence from part 1.\n",
    "4. Find the first 6 terms of the sequence by running the code.\n",
    "\n",
    "## Questions\n",
    "Note: use `int`, `long` or `float` as appropriate.\n",
    "\n",
    "1 - c, d, e, f  \n",
    "2 - b, d, f  \n",
    "3 - note: `int n`, `int t1`, and `int d` should all be parameters of the the function. Test this with d = -3, t1 = 1.  \n",
    "4 - note: `int n`, `int t1`, and `int r` should all be parameters of the the function. Test this with r = 2, t1 = 1.  \n",
    "7 - The recursive sequence is given so you don't need to find it, only implement the c++.  \n",
    "\n",
    "## Example\n",
    "\n",
    "### Question 1a.\n",
    "\n",
    "$\n",
    "\\left\\{\n",
    "   \\begin{matrix}\n",
    "      a_1 = 4 \\\\ \n",
    "      a_n = n + a_{n-1}+6\n",
    "   \\end{matrix}\n",
    "\\right.\n",
    "$\n",
    "\n",
    "First 6 terms: 4, 12, 21, 31, 42, 54"
   ]
  },
  {
   "cell_type": "code",
   "execution_count": 2,
   "id": "2884e2ec",
   "metadata": {
    "trusted": false
   },
   "outputs": [],
   "source": [
    "int question1a(int n){\n",
    "    if(n == 1)\n",
    "        return 4;\n",
    "    else\n",
    "        return n + 6 + question1a(n-1);\n",
    "}"
   ]
  },
  {
   "cell_type": "code",
   "execution_count": 3,
   "id": "4efd8ff7",
   "metadata": {
    "trusted": false
   },
   "outputs": [
    {
     "name": "stdout",
     "output_type": "stream",
     "text": [
      "The first 6 terms are: 4 12 21 31 42 54 "
     ]
    }
   ],
   "source": [
    "cout << \"The first \" << TERMS << \" terms are: \";\n",
    "\n",
    "for(int i = 1; i <= TERMS; i++){\n",
    "    cout << question1a(i) << \" \";\n",
    "}"
   ]
  },
  {
   "cell_type": "markdown",
   "id": "d845270f",
   "metadata": {},
   "source": [
    "## Exercises\n",
    "\n",
    "### Question 1c.\n",
    "\n",
    "$\n",
    "\\left\\{\n",
    "   \\begin{matrix}\n",
    "      a_1 = 2 \\\\ \n",
    "      a_n = (a_{n-1})^2 + 2\n",
    "   \\end{matrix}\n",
    "\\right.\n",
    "$\n",
    "\n",
    "The first 6 terms are: 2 6 38 1446 2090918 4371938082726"
   ]
  },
  {
   "cell_type": "code",
   "execution_count": null,
   "id": "12b8d179",
   "metadata": {
    "trusted": false,
    "vscode": {
     "languageId": "cpp"
    }
   },
   "outputs": [],
   "source": [
    "long long question1c(int n){\n",
    "    if(n == 1)\n",
    "        return 2;\n",
    "    else\n",
    "        return pow(question1c(n-1), 2) + 2;\n",
    "}"
   ]
  },
  {
   "cell_type": "code",
   "execution_count": null,
   "id": "09bde069",
   "metadata": {
    "trusted": false
   },
   "outputs": [],
   "source": [
    "    cout << \"Question 1c - The first \" << TERMS << \" terms are: \";\n",
    "    for(int i = 1; i <= TERMS; i++){\n",
    "        cout << question1c(i) << \" \";\n",
    "    }"
   ]
  },
  {
   "cell_type": "markdown",
   "id": "1eb27ff5",
   "metadata": {
    "vscode": {
     "languageId": "plaintext"
    }
   },
   "source": [
    "Question 1c - The first 6 terms are: 2 6 38 1446 2090918 4371938082726"
   ]
  },
  {
   "cell_type": "markdown",
   "id": "7c0254a1",
   "metadata": {},
   "source": [
    "### Question 1d."
   ]
  },
  {
   "cell_type": "markdown",
   "id": "c73fcfc1",
   "metadata": {},
   "source": [
    "$\n",
    "\\left\\{\n",
    "   \\begin{matrix}\n",
    "      a_1 = 5 \\\\ \n",
    "      a_n = n^2 - a_{n-1}\n",
    "   \\end{matrix}\n",
    "\\right.\n",
    "$"
   ]
  },
  {
   "cell_type": "markdown",
   "id": "fc3fcb80",
   "metadata": {},
   "source": [
    "The first 6 terms are: 5 -1 10 6 19 17"
   ]
  },
  {
   "cell_type": "code",
   "execution_count": null,
   "id": "d1e56c1e",
   "metadata": {
    "trusted": false
   },
   "outputs": [],
   "source": [
    "int question1d(int n){\n",
    "    if(n == 1)\n",
    "        return 5;\n",
    "    else\n",
    "        return pow(n, 2) - question1d(n-1);\n",
    "}"
   ]
  },
  {
   "cell_type": "code",
   "execution_count": null,
   "id": "bd7b51ec",
   "metadata": {
    "trusted": false
   },
   "outputs": [],
   "source": [
    "    cout << \"\\n\\nQuestion 1d - The first \" << TERMS << \" terms are: \";\n",
    "    for(int i = 1; i <= TERMS; i++){\n",
    "        cout << question1d(i) << \" \";\n",
    "    }"
   ]
  },
  {
   "cell_type": "markdown",
   "id": "5350f012",
   "metadata": {},
   "source": [
    "Question 1d - The first 6 terms are: 5 -1 10 6 19 17"
   ]
  },
  {
   "cell_type": "markdown",
   "id": "5c55bc0c",
   "metadata": {},
   "source": [
    "### Question 1e."
   ]
  },
  {
   "cell_type": "markdown",
   "id": "4b4b3408",
   "metadata": {},
   "source": [
    "$\n",
    "\\left\\{\n",
    "   \\begin{matrix}\n",
    "      a_1 = 4 \\\\\n",
    "      a_2 = 2 \\\\\n",
    "      a_n = a_{n-1} - a_{n-2}\n",
    "   \\end{matrix}\n",
    "\\right.\n",
    "$"
   ]
  },
  {
   "cell_type": "markdown",
   "id": "760ea902",
   "metadata": {},
   "source": [
    "The first 6 terms are: 4 2 -2 -4 -2 2"
   ]
  },
  {
   "cell_type": "code",
   "execution_count": null,
   "id": "7ad3f1c4",
   "metadata": {
    "trusted": false
   },
   "outputs": [],
   "source": [
    "int question1e(int n){\n",
    "    if(n == 1)\n",
    "        return 4;\n",
    "    if(n == 2)\n",
    "        return 2;\n",
    "    else\n",
    "        return question1e(n-1) - question1e(n-2);\n",
    "}"
   ]
  },
  {
   "cell_type": "code",
   "execution_count": null,
   "id": "56eefc61",
   "metadata": {
    "trusted": false
   },
   "outputs": [],
   "source": [
    "    cout << \"\\n\\nQuestion 1e - The first \" << TERMS << \" terms are: \";\n",
    "    for(int i = 1; i <= TERMS; i++){\n",
    "        cout << question1e(i) << \" \";\n",
    "    }"
   ]
  },
  {
   "cell_type": "markdown",
   "id": "2436bca2",
   "metadata": {},
   "source": [
    "Question 1e - The first 6 terms are: 4 2 -2 -4 -2 2"
   ]
  },
  {
   "cell_type": "markdown",
   "id": "4282be21",
   "metadata": {},
   "source": [
    "### Question 1f."
   ]
  },
  {
   "cell_type": "markdown",
   "id": "f548e912",
   "metadata": {},
   "source": [
    "$\n",
    "\\left\\{\n",
    "   \\begin{matrix}\n",
    "      a_1 = 1 \\\\\n",
    "      a_2 = 3 \\\\\n",
    "      a_n = a_{n-1} \\times a_{n-2}\n",
    "   \\end{matrix}\n",
    "\\right.\n",
    "$"
   ]
  },
  {
   "cell_type": "markdown",
   "id": "a66fb486",
   "metadata": {},
   "source": [
    "The first 6 terms are: 1 3 3 9 27 243"
   ]
  },
  {
   "cell_type": "code",
   "execution_count": null,
   "id": "79190fba",
   "metadata": {
    "trusted": false
   },
   "outputs": [],
   "source": [
    "int question1f(int n){\n",
    "    if(n == 1)\n",
    "        return 1;\n",
    "    if(n == 2)\n",
    "        return 3;\n",
    "    else\n",
    "        return question1f(n-1) * question1f(n-2);\n",
    "}"
   ]
  },
  {
   "cell_type": "code",
   "execution_count": null,
   "id": "8973e429",
   "metadata": {
    "trusted": false
   },
   "outputs": [],
   "source": [
    "    cout << \"\\n\\nQuestion 1f - The first \" << TERMS << \" terms are: \";\n",
    "    for(int i = 1; i <= TERMS; i++){\n",
    "        cout << question1f(i) << \" \";\n",
    "    }"
   ]
  },
  {
   "cell_type": "markdown",
   "id": "104a1335",
   "metadata": {},
   "source": [
    "Question 1f - The first 6 terms are: 1 3 3 9 27 243"
   ]
  },
  {
   "cell_type": "markdown",
   "id": "af86a449",
   "metadata": {},
   "source": [
    "### Question 2b."
   ]
  },
  {
   "cell_type": "markdown",
   "id": "e6c4b5a6",
   "metadata": {},
   "source": [
    "$\n",
    "\\left\\{\n",
    "   \\begin{matrix}\n",
    "      a_1 = 40 \\\\\n",
    "      a_n = a_{n-1} \\times (-0.5)\n",
    "   \\end{matrix}\n",
    "\\right.\n",
    "$"
   ]
  },
  {
   "cell_type": "markdown",
   "id": "65ae417f",
   "metadata": {},
   "source": [
    "The first 6 terms are: 40 -20 10 -5 2.5 -1.25"
   ]
  },
  {
   "cell_type": "code",
   "execution_count": null,
   "id": "a5aa9092",
   "metadata": {
    "trusted": false
   },
   "outputs": [],
   "source": [
    "float question2b(int n){\n",
    "    if(n == 1)\n",
    "        return 40;\n",
    "    else\n",
    "        return question2b(n-1) / (-2);\n",
    "}"
   ]
  },
  {
   "cell_type": "code",
   "execution_count": null,
   "id": "6548e62c",
   "metadata": {
    "trusted": false
   },
   "outputs": [],
   "source": [
    "    cout << \"\\n\\nQuestion 2b - The first \" << TERMS << \" terms are: \";\n",
    "    for(int i = 1; i <= TERMS; i++){\n",
    "        cout << question2b(i) << \" \";\n",
    "    }"
   ]
  },
  {
   "cell_type": "markdown",
   "id": "a078aaad",
   "metadata": {},
   "source": [
    "Question 2b - The first 6 terms are: 40 -20 10 -5 2.5 -1.25"
   ]
  },
  {
   "cell_type": "markdown",
   "id": "9113dd0a",
   "metadata": {},
   "source": [
    "### Question 2d."
   ]
  },
  {
   "cell_type": "markdown",
   "id": "f5256d47",
   "metadata": {},
   "source": [
    "$\n",
    "\\left\\{\n",
    "   \\begin{matrix}\n",
    "      a_1 = 2 \\\\\n",
    "      a_n = a_{n-1} \\times 10\n",
    "   \\end{matrix}\n",
    "\\right.\n",
    "$"
   ]
  },
  {
   "cell_type": "markdown",
   "id": "5161b4f5",
   "metadata": {},
   "source": [
    "The first 6 terms are: 2 20 200 2000 20000 200000"
   ]
  },
  {
   "cell_type": "code",
   "execution_count": null,
   "id": "88ec1640",
   "metadata": {
    "trusted": false
   },
   "outputs": [],
   "source": [
    "int question2d(int n){\n",
    "    if(n == 1)\n",
    "        return 2;\n",
    "    else\n",
    "        return question2d(n-1) * 10;\n",
    "}"
   ]
  },
  {
   "cell_type": "code",
   "execution_count": null,
   "id": "ce08ad7a",
   "metadata": {
    "trusted": false
   },
   "outputs": [],
   "source": [
    "    cout << \"\\n\\nQuestion 2d - The first \" << TERMS << \" terms are: \";\n",
    "    for(int i = 1; i <= TERMS; i++){\n",
    "        cout << question2d(i) << \" \";\n",
    "    }"
   ]
  },
  {
   "cell_type": "markdown",
   "id": "ef1e46bd",
   "metadata": {},
   "source": [
    "Question 2d - The first 6 terms are: 2 20 200 2000 20000 200000"
   ]
  },
  {
   "cell_type": "markdown",
   "id": "264338b3",
   "metadata": {},
   "source": [
    "### Question 2f."
   ]
  },
  {
   "cell_type": "markdown",
   "id": "002592ee",
   "metadata": {},
   "source": [
    "$\n",
    "\\left\\{\n",
    "   \\begin{matrix}\n",
    "      a_1 = 14 \\\\\n",
    "      a_n = a_{n-1} + 0.5\n",
    "   \\end{matrix}\n",
    "\\right.\n",
    "$"
   ]
  },
  {
   "cell_type": "markdown",
   "id": "0b9afaa6",
   "metadata": {},
   "source": [
    "The first 6 terms are: 14 14.5 15 15.5 16 16.5"
   ]
  },
  {
   "cell_type": "code",
   "execution_count": null,
   "id": "97e47933",
   "metadata": {
    "trusted": false
   },
   "outputs": [],
   "source": [
    "float question2f(int n){\n",
    "    if(n == 1)\n",
    "        return 14;\n",
    "    else\n",
    "        return question2f(n-1) + 0.5;\n",
    "}"
   ]
  },
  {
   "cell_type": "code",
   "execution_count": null,
   "id": "170cce27",
   "metadata": {
    "trusted": false
   },
   "outputs": [],
   "source": [
    "    cout << \"\\n\\nQuestion 2f - The first \" << TERMS << \" terms are: \";\n",
    "    for(int i = 1; i <= TERMS; i++){\n",
    "        cout << question2f(i) << \" \";\n",
    "    }"
   ]
  },
  {
   "cell_type": "markdown",
   "id": "a8fb5eb6",
   "metadata": {},
   "source": [
    "Question 2f - The first 6 terms are: 14 14.5 15 15.5 16 16.5"
   ]
  },
  {
   "cell_type": "markdown",
   "id": "c3281dfa",
   "metadata": {},
   "source": [
    "### Question 3."
   ]
  },
  {
   "cell_type": "markdown",
   "id": "c3414d10",
   "metadata": {},
   "source": [
    "$\n",
    "\\left\\{\n",
    "   \\begin{matrix}\n",
    "      a_1 = 1 \\\\\n",
    "      a_n = a_{n-1} - 3\n",
    "   \\end{matrix}\n",
    "\\right.\n",
    "$"
   ]
  },
  {
   "cell_type": "markdown",
   "id": "9f4a75c9",
   "metadata": {},
   "source": [
    "The first 6 terms are: 1 -2 -5 -8 -11 -14"
   ]
  },
  {
   "cell_type": "code",
   "execution_count": null,
   "id": "c1a8301b",
   "metadata": {
    "trusted": true
   },
   "outputs": [],
   "source": [
    "int question3(int n, int d, int t1){\n",
    "    if(n == 1)\n",
    "        return 1;\n",
    "    else\n",
    "        return question3(n-1, d, t1) + d;\n",
    "}"
   ]
  },
  {
   "cell_type": "code",
   "execution_count": null,
   "id": "7c25b64e",
   "metadata": {
    "trusted": false
   },
   "outputs": [],
   "source": [
    "    cout << \"\\n\\nQuestion 3 - The first \" << TERMS << \" terms are: \";\n",
    "    for(int i = 1; i <= TERMS; i++){\n",
    "        cout << question3(i, -3, 1) << \" \";\n",
    "    }"
   ]
  },
  {
   "cell_type": "markdown",
   "id": "f4a13f19",
   "metadata": {},
   "source": [
    "Question 3 - The first 6 terms are: 1 -2 -5 -8 -11 -14"
   ]
  },
  {
   "cell_type": "markdown",
   "id": "4e5f6f99",
   "metadata": {},
   "source": [
    "### Question 4."
   ]
  },
  {
   "cell_type": "markdown",
   "id": "6d656e03",
   "metadata": {},
   "source": [
    "$\n",
    "\\left\\{\n",
    "   \\begin{matrix}\n",
    "      a_1 = 1 \\\\\n",
    "      a_n = a_{n-1} \\times 2\n",
    "   \\end{matrix}\n",
    "\\right.\n",
    "$"
   ]
  },
  {
   "cell_type": "markdown",
   "id": "c1e78273",
   "metadata": {},
   "source": [
    "The first 6 terms are: 1 2 4 8 16 32"
   ]
  },
  {
   "cell_type": "code",
   "execution_count": null,
   "id": "5501604f",
   "metadata": {
    "trusted": false
   },
   "outputs": [],
   "source": [
    "int question4(int n, int r, int t1){\n",
    "    if(n == 1)\n",
    "        return 1;\n",
    "    else\n",
    "        return question4(n-1, r, t1) * r;\n",
    "}"
   ]
  },
  {
   "cell_type": "code",
   "execution_count": null,
   "id": "5af04ad4",
   "metadata": {
    "trusted": false
   },
   "outputs": [],
   "source": [
    "    cout << \"\\n\\nQuestion 4 - The first \" << TERMS << \" terms are: \";\n",
    "    for(int i = 1; i <= TERMS; i++){\n",
    "        cout << question4(i, 2, 1) << \" \";\n",
    "    }"
   ]
  },
  {
   "cell_type": "markdown",
   "id": "c8e41bc0",
   "metadata": {},
   "source": [
    "Question 4 - The first 6 terms are: 1 2 4 8 16 32"
   ]
  },
  {
   "cell_type": "markdown",
   "id": "0595bea0",
   "metadata": {},
   "source": [
    "### Question 7."
   ]
  },
  {
   "cell_type": "code",
   "execution_count": null,
   "id": "364cec70",
   "metadata": {
    "trusted": false
   },
   "outputs": [],
   "source": [
    "int question7(int n){\n",
    "    if(n == 1)\n",
    "        return 7;\n",
    "    if(question7(n-1) % 2 == 0)\n",
    "        return question7(n-1) / 2;\n",
    "    else\n",
    "        return 3 * question7(n-1) + 1;\n",
    "}"
   ]
  },
  {
   "cell_type": "code",
   "execution_count": null,
   "id": "12f6301e",
   "metadata": {
    "trusted": false
   },
   "outputs": [],
   "source": [
    "    cout << \"\\n\\nQuestion 7 - The first \" << TERMS << \" terms are: \";\n",
    "    for(int i = 1; i <= TERMS; i++){\n",
    "        cout << question7(i) << \" \";\n",
    "    }\n"
   ]
  },
  {
   "cell_type": "markdown",
   "id": "9f292e43",
   "metadata": {},
   "source": [
    "Question 7 - The first 6 terms are: 7 22 11 34 17 52"
   ]
  }
 ],
 "metadata": {
  "kernelspec": {
   "display_name": "C++17",
   "language": "C++17",
   "name": "xcpp17"
  },
  "language_info": {
   "codemirror_mode": "text/x-c++src",
   "file_extension": ".cpp",
   "mimetype": "text/x-c++src",
   "name": "c++",
   "version": "17"
  }
 },
 "nbformat": 4,
 "nbformat_minor": 5
}
