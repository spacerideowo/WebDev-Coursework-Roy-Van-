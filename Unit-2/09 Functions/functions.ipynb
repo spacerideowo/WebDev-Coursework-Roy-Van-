{
 "cells": [
  {
   "cell_type": "markdown",
   "id": "14fc3f28",
   "metadata": {},
   "source": [
    "# Functions"
   ]
  },
  {
   "cell_type": "code",
   "execution_count": 2,
   "id": "704f5081",
   "metadata": {
    "trusted": true
   },
   "outputs": [],
   "source": [
    "#include <iostream>\n",
    "using namespace std;"
   ]
  },
  {
   "cell_type": "code",
   "execution_count": null,
   "id": "8ad2480f",
   "metadata": {
    "trusted": true
   },
   "outputs": [],
   "source": [
    "bool isEven(int a){\n",
    "    if(a % 2 == 0)\n",
    "        return true;\n",
    "    else\n",
    "        return false;\n",
    "}"
   ]
  },
  {
   "cell_type": "markdown",
   "id": "e36341aa",
   "metadata": {},
   "source": [
    "In the above code chunk we can see our first function. There are multiple parts to talk about here:\n",
    "* `isEven` is the name of the function. This is how you reference the function later\n",
    "* bool is the return type. This can be `int`, `char`, `float`, etc. If your function doesn't return anything you can set this to `void`\n",
    "* `return true;` this is the value returned at the end of the function. For void functions you can simply `return;` without a value\n",
    "* `int a` this is the input value (known as a parameter) for the function. In the example below you can see `isEven(22);`, this is like having the first line of the function being: `int a = 22;`"
   ]
  },
  {
   "cell_type": "code",
   "execution_count": 4,
   "id": "bbacfaf7",
   "metadata": {
    "trusted": true
   },
   "outputs": [
    {
     "name": "stdout",
     "output_type": "stream",
     "text": [
      "1\n"
     ]
    }
   ],
   "source": [
    "cout << isEven(22) << endl;"
   ]
  },
  {
   "cell_type": "markdown",
   "id": "926b7252",
   "metadata": {},
   "source": [
    "### Example 1:\n",
    "Make a function with the following:\n",
    "* **Name:**       `max`\n",
    "* **Parameters:**\n",
    "   * `int a`: any integer value is okay\n",
    "   * `int b`: any integer value is okay\n",
    "* **Returns:** the larger of the two integers `a` or `b`"
   ]
  },
  {
   "cell_type": "code",
   "execution_count": 5,
   "id": "3c14f38a",
   "metadata": {
    "trusted": true
   },
   "outputs": [],
   "source": [
    "int max(int a, int b){\n",
    "    // returns the bigger of the two numbers\n",
    "    if(a > b)\n",
    "        return a;\n",
    "    else\n",
    "        return b;\n",
    "}"
   ]
  },
  {
   "cell_type": "code",
   "execution_count": 6,
   "id": "4a3a5b47",
   "metadata": {
    "trusted": true
   },
   "outputs": [
    {
     "name": "stdout",
     "output_type": "stream",
     "text": [
      "20\n"
     ]
    }
   ],
   "source": [
    "cout << max(10, 20) << endl;"
   ]
  },
  {
   "cell_type": "markdown",
   "id": "9899072b",
   "metadata": {},
   "source": [
    "### Example 2:\n",
    "Make a function with the following:\n",
    "* **Name:**       `numberOfDigits`\n",
    "* **Parameters:**\n",
    "   * `int a`: any integer value is okay\n",
    "* **Returns:** the number of digits in `a`"
   ]
  },
  {
   "cell_type": "code",
   "execution_count": 7,
   "id": "73933396",
   "metadata": {
    "trusted": true
   },
   "outputs": [],
   "source": [
    "int numberOfDigits(int a){\n",
    "    //returns the number of digits in a\n",
    "    // (works for both positive and negative numbers)\n",
    "    if(a == 0) return 1;\n",
    "    int numDigits = 0;\n",
    "    \n",
    "    while(a != 0){\n",
    "        a /= 10;\n",
    "        numDigits++;\n",
    "    }\n",
    "    return numDigits;\n",
    "}"
   ]
  },
  {
   "cell_type": "code",
   "execution_count": 8,
   "id": "af19c03b",
   "metadata": {
    "trusted": true
   },
   "outputs": [
    {
     "name": "stdout",
     "output_type": "stream",
     "text": [
      "1 (should be 1)\n",
      "6 (should be 6)\n",
      "1 (should be 1)\n",
      "2 (should be 2)\n"
     ]
    }
   ],
   "source": [
    "cout << numberOfDigits(1) << \" (should be 1)\\n\";\n",
    "cout << numberOfDigits(100006) << \" (should be 6)\\n\";\n",
    "cout << numberOfDigits(0) << \" (should be 1)\\n\";\n",
    "cout << numberOfDigits(-31) << \" (should be 2)\\n\";"
   ]
  },
  {
   "cell_type": "markdown",
   "id": "88c15c77",
   "metadata": {},
   "source": [
    "### Example 3:\n",
    "Make a function with the following:\n",
    "* **Name:**       displayAuthor\n",
    "* **Parameters:** none\n",
    "* **Behavior:** uses `cout` to display the name of the author\n",
    "* **Returns:** nothing (`void`)"
   ]
  },
  {
   "cell_type": "code",
   "execution_count": 9,
   "id": "ae253dc4",
   "metadata": {
    "trusted": true
   },
   "outputs": [
    {
     "name": "stdout",
     "output_type": "stream",
     "text": [
      "This program was written by Mark Vuorela\n"
     ]
    }
   ],
   "source": [
    "void displayAuthor(){\n",
    "    cout << \"This program was written by Mark Vuorela\\n\";\n",
    "}\n",
    "\n",
    "displayAuthor();"
   ]
  },
  {
   "cell_type": "markdown",
   "id": "94d125ac",
   "metadata": {},
   "source": [
    "## Exercises:\n",
    "\n",
    "### Exercise 1:\n",
    "A function `myAbsolute` that takes a single int as a parameter and returns the absolute value.\n"
   ]
  },
  {
   "cell_type": "code",
   "execution_count": 10,
   "id": "c2b2b2ac",
   "metadata": {
    "trusted": true
   },
   "outputs": [],
   "source": [
    "int myAbsolute(int a){\n",
    "    return 0; // complete this function\n",
    "}"
   ]
  },
  {
   "cell_type": "code",
   "execution_count": 11,
   "id": "ae20fbcd",
   "metadata": {
    "trusted": true
   },
   "outputs": [
    {
     "name": "stdout",
     "output_type": "stream",
     "text": [
      "myAbsolute(25)  = 0\n",
      "myAbsolute(-25) = 0\n"
     ]
    }
   ],
   "source": [
    "cout << \"myAbsolute(25)  = \" << myAbsolute(25)  << \" (should be 25)\" << endl;\n",
    "cout << \"myAbsolute(-25) = \" << myAbsolute(-25) << \" (should be 25)\" << endl;"
   ]
  },
  {
   "cell_type": "code",
   "execution_count": null,
   "id": "8ae51281",
   "metadata": {
    "vscode": {
     "languageId": "cpp"
    }
   },
   "outputs": [],
   "source": [
    "#include <iostream>\n",
    "using namespace std;\n",
    "\n",
    "int myAbsolute(int);\n",
    "\n",
    "int main(){\n",
    "    cout << \"myAbsolute(25)  = \" << myAbsolute(25)  << endl; // should be 25\n",
    "    cout << \"myAbsolute(-25) = \" << myAbsolute(-25) << endl; // should be 25\n",
    "    return 0;\n",
    "}\n",
    "\n",
    "int myAbsolute(int a){\n",
    "    if(a < 0){\n",
    "        a = -a; return a;\n",
    "    }\n",
    "    else return a;\n",
    "}\n"
   ]
  },
  {
   "cell_type": "markdown",
   "id": "7df7fa58",
   "metadata": {},
   "source": [
    "### Exercise 2:\n",
    "A function `myPower` that takes two integers $a$ and $b$ where $b \\gt 0$ as parameters and returns $a^b$"
   ]
  },
  {
   "cell_type": "code",
   "execution_count": null,
   "id": "98fbc3b7",
   "metadata": {
    "trusted": false
   },
   "outputs": [],
   "source": [
    "int myPower(int a, int b){\n",
    "    return 0; // complete this function\n",
    "}"
   ]
  },
  {
   "cell_type": "code",
   "execution_count": null,
   "id": "84d5de39",
   "metadata": {
    "trusted": false
   },
   "outputs": [],
   "source": [
    "cout << \"myPower(2,3)  = \" << myPower(2,3) << \" (should be 8)\" << endl;\n",
    "cout << \"myPower(-3,3) = \" << myPower(-3,3) << \" (should be -27)\" <<  endl;\n",
    "cout << \"myPower(5,0)  = \" << myPower(5,0) << \" (should be 1)\" <<  endl;\n",
    "cout << \"myPower(5,1)  = \" << myPower(5,1) << \" (should be 5)\" <<  endl;"
   ]
  },
  {
   "cell_type": "code",
   "execution_count": null,
   "id": "2262573d",
   "metadata": {
    "vscode": {
     "languageId": "cpp"
    }
   },
   "outputs": [],
   "source": [
    "#include <iostream>\n",
    "using namespace std;\n",
    "\n",
    "int myPower(int, int);\n",
    "\n",
    "int main(){\n",
    "    cout << \"myPower(2,3)  = \" << myPower(2,3) << \" (should be 8)\" << endl;\n",
    "    cout << \"myPower(-3,3) = \" << myPower(-3,3) << \" (should be -27)\" <<  endl;\n",
    "    cout << \"myPower(5,0)  = \" << myPower(5,0) << \" (should be 1)\" <<  endl;\n",
    "    cout << \"myPower(5,1)  = \" << myPower(5,1) << \" (should be 5)\" <<  endl;\n",
    "}\n",
    "\n",
    "int myPower(int a, int b){\n",
    "    int product = 1;\n",
    "    for(int i = 0; i <= b - 1; i++){\n",
    "        product *= a;\n",
    "    }\n",
    "    return product;\n",
    "}\n"
   ]
  },
  {
   "cell_type": "markdown",
   "id": "0a607e65",
   "metadata": {},
   "source": [
    "### Exercise 3:\n",
    "A function `sumDigits` that takes a single int as a returns the sum of the digits. You can assume that the input is not negative."
   ]
  },
  {
   "cell_type": "code",
   "execution_count": null,
   "id": "f681b5da",
   "metadata": {
    "trusted": false
   },
   "outputs": [],
   "source": [
    "int sumDigits(int a){\n",
    "    int sum = 0;\n",
    "    return sum;\n",
    "}"
   ]
  },
  {
   "cell_type": "code",
   "execution_count": null,
   "id": "0d562fd9",
   "metadata": {
    "trusted": false
   },
   "outputs": [],
   "source": [
    "cout << \"sumDigits(0) = \" << sumDigits(0) <<  \" (should be 0)\" << endl;\n",
    "cout << \"sumDigits(5) = \" << sumDigits(5) <<   \" (should be 5)\" << endl;\n",
    "cout << \"sumDigits(5000) = \" << sumDigits(5000) <<   \" (should be 5)\" << endl;\n",
    "cout << \"sumDigits(33333) = \" << sumDigits(33333) <<   \" (should be 15)\" << endl;"
   ]
  },
  {
   "cell_type": "code",
   "execution_count": null,
   "id": "80cb48ec",
   "metadata": {
    "vscode": {
     "languageId": "cpp"
    }
   },
   "outputs": [],
   "source": [
    "#include <iostream>\n",
    "using namespace std;\n",
    "\n",
    "int sumDigits(int);\n",
    "\n",
    "int main(){\n",
    "    cout << \"sumDigits(0) = \" << sumDigits(0) <<  \" (should be 0)\" << endl;\n",
    "    cout << \"sumDigits(5) = \" << sumDigits(5) <<   \" (should be 5)\" << endl;\n",
    "    cout << \"sumDigits(5000) = \" << sumDigits(5000) <<   \" (should be 5)\" << endl;\n",
    "    cout << \"sumDigits(33333) = \" << sumDigits(33333) <<   \" (should be 15)\" << endl;\n",
    "}\n",
    "\n",
    "int sumDigits(int a){\n",
    "    int sum = 0;\n",
    "    while(a > 0){\n",
    "        sum += a % 10;\n",
    "        a /= 10;\n",
    "    }\n",
    "    return sum;\n",
    "}"
   ]
  },
  {
   "cell_type": "markdown",
   "id": "52645752",
   "metadata": {},
   "source": [
    "### Exercise 4:\n",
    "A function `revDigs` that takes a positive integer as a parameter and returns an integer with the digits reversed. You can assume that the input is not negative."
   ]
  },
  {
   "cell_type": "code",
   "execution_count": null,
   "id": "a15d8a35",
   "metadata": {
    "trusted": false
   },
   "outputs": [],
   "source": [
    "int revDigits(int a){\n",
    "    int reversed = 0;\n",
    "    return reversed; // TODO: complete this function\n",
    "}"
   ]
  },
  {
   "cell_type": "code",
   "execution_count": null,
   "id": "199e717b",
   "metadata": {
    "trusted": false
   },
   "outputs": [],
   "source": [
    "cout << \"revDigits(0) = \" << revDigits(0) <<   \" (should be 0)\" << endl;\n",
    "cout << \"revDigits(2) = \" << revDigits(2) <<   \" (should be 2)\" << endl;\n",
    "cout << \"revDigits(23) = \" << revDigits(23) <<   \" (should be 32)\" << endl;\n",
    "cout << \"revDigits(1234) = \" << revDigits(1234) <<   \" (should be 4321)\" << endl;\n",
    "cout << \"revDigits(5005) = \" << revDigits(5005) <<   \" (should be 5005)\" << endl;"
   ]
  },
  {
   "cell_type": "code",
   "execution_count": null,
   "id": "f7698cce",
   "metadata": {
    "vscode": {
     "languageId": "cpp"
    }
   },
   "outputs": [],
   "source": [
    "#include <iostream>\n",
    "using namespace std;\n",
    "\n",
    "int revDigs(int);\n",
    "\n",
    "int main(){\n",
    "    cout << \"revDigits(0) = \" << revDigs(0) <<   \" (should be 0)\" << endl;\n",
    "    cout << \"revDigits(2) = \" << revDigs(2) <<   \" (should be 2)\" << endl;\n",
    "    cout << \"revDigits(23) = \" << revDigs(23) <<   \" (should be 32)\" << endl;\n",
    "    cout << \"revDigits(1234) = \" << revDigs(1234) <<   \" (should be 4321)\" << endl;\n",
    "    cout << \"revDigits(5005) = \" << revDigs(5005) <<   \" (should be 5005)\" << endl;\n",
    "}\n",
    "\n",
    "int revDigs(int remaining){\n",
    "    int revNum = 0;\n",
    "    while(remaining > 0){\n",
    "        revNum = 10 * revNum + remaining % 10;\n",
    "        remaining /= 10;\n",
    "    }\n",
    "    return revNum;\n",
    "}\n"
   ]
  },
  {
   "cell_type": "markdown",
   "id": "f19c617d",
   "metadata": {},
   "source": [
    "### Exercise 5:\n",
    "A function `fibonacci` that takes a positive integer 𝑛 as a parameter and returns the $n^{th}$ Fibonacci number where $f_0=f_1=1$ and $f_n = f_{n-1} + f_{n-2}$"
   ]
  },
  {
   "cell_type": "code",
   "execution_count": null,
   "id": "a6aef21c",
   "metadata": {
    "trusted": false
   },
   "outputs": [],
   "source": [
    "int fibonacci(int n){\n",
    "    // we want f(0)=f(1)=1\n",
    "    int current = 1, last1 = 0, last2;\n",
    "    // TODO complete this function\n",
    "    return current;\n",
    "}\n",
    "\n",
    "cout << \"The first 10 Fibonacci numbers are:\\n\";\n",
    "\n",
    "for(int i = 0; i <= 10; i++)\n",
    "    cout << fibonacci(i) << \" \";\n"
   ]
  },
  {
   "cell_type": "code",
   "execution_count": null,
   "id": "ccbbe15c",
   "metadata": {
    "vscode": {
     "languageId": "cpp"
    }
   },
   "outputs": [],
   "source": [
    "#include <iostream>\n",
    "using namespace std;\n",
    "\n",
    "int fibonacci(int);\n",
    "\n",
    "int main(){\n",
    "    cout << \"The 1st fibonacci number is \" << fibonacci(1) << endl;\n",
    "    cout << \"The 2nd fibonacci number is \" << fibonacci(2) << endl;\n",
    "    cout << \"The 3rd fibonacci number is \" << fibonacci(3) << endl;\n",
    "    cout << \"The 5th fibonacci number is \" << fibonacci(5) << endl;\n",
    "\n",
    "}\n",
    "int fibonacci(int a){\n",
    "    int n0 = 0, n1 = 1, n2;\n",
    "    for(int i = 0; i <= a - 1; i++){\n",
    "        n2 = n0 + n1;\n",
    "        n0 = n1;\n",
    "        n1 = n2;\n",
    "    }\n",
    "    return n0;\n",
    "}\n",
    "// 1, 1, 2, 3, 5, 8, 13\n"
   ]
  },
  {
   "cell_type": "markdown",
   "id": "a1409ffd",
   "metadata": {},
   "source": [
    "### Exercise 6:\n",
    "A function changeCase that takes a char as a parameter and returns the same letter in the opposite case. If the char is not an alphabet character, simply return the original character. For example:\n",
    "* Examples\n",
    "   * changeCase('E') is 'e'\n",
    "   * changeCase('f') is 'F'\n",
    "   * changeCase('4') is '4'"
   ]
  },
  {
   "cell_type": "code",
   "execution_count": null,
   "id": "2993f01a",
   "metadata": {
    "trusted": true
   },
   "outputs": [
    {
     "name": "stdout",
     "output_type": "stream",
     "text": [
      "C -> C\n",
      "Z -> Z\n",
      "m -> m\n",
      "6 -> 6\n"
     ]
    }
   ],
   "source": [
    "char changeCase(char c){\n",
    "    // first find the numerical difference in the ASCII values\n",
    "    int caseDifference = 'z' - 'Z';\n",
    "    return c;\n",
    "}\n",
    "\n",
    "cout << \"C -> \" << changeCase('C') << endl;\n",
    "cout << \"Z -> \" << changeCase('Z') << endl;\n",
    "cout << \"m -> \" << changeCase('m') << endl;\n",
    "cout << \"6 -> \" << changeCase('6') << endl;"
   ]
  },
  {
   "cell_type": "code",
   "execution_count": null,
   "id": "e2cdeb73",
   "metadata": {
    "trusted": false
   },
   "outputs": [],
   "source": []
  }
 ],
 "metadata": {
  "kernelspec": {
   "display_name": "C++17",
   "language": "C++17",
   "name": "xcpp17"
  },
  "language_info": {
   "codemirror_mode": "text/x-c++src",
   "file_extension": ".cpp",
   "mimetype": "text/x-c++src",
   "name": "c++",
   "version": "17"
  }
 },
 "nbformat": 4,
 "nbformat_minor": 5
}
