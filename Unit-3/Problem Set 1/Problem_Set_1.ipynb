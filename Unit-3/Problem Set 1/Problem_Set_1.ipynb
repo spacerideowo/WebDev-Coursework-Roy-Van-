{
 "cells": [
  {
   "cell_type": "markdown",
   "id": "bec2e6af",
   "metadata": {},
   "source": [
    "# Problem Set 1\n",
    "### Roy Van\n"
   ]
  },
  {
   "cell_type": "code",
   "execution_count": 1,
   "id": "67ffed53",
   "metadata": {
    "trusted": false
   },
   "outputs": [],
   "source": [
    "#include <iostream>\n",
    "\n",
    "using namespace std;"
   ]
  },
  {
   "cell_type": "markdown",
   "id": "8b8e71cb",
   "metadata": {},
   "source": [
    "## Problem: Basics of while and for loops\n",
    "a. Write a C++ program  that uses a while loop to output the multiples of 7 between 0 and 77 inclusive."
   ]
  },
  {
   "cell_type": "code",
   "execution_count": null,
   "id": "6d9dafc1",
   "metadata": {
    "trusted": false
   },
   "outputs": [],
   "source": [
    "#include <iostream>\n",
    "using namespace std;\n",
    "\n",
    "int main(){\n",
    "    // Loop from 0 to 77\n",
    "    for(int i = 0; i <= 77; i++){\n",
    "        // Check if i is a multiple of 7\n",
    "        if(i % 7 == 0)\n",
    "            cout << i << endl;  // Print i if it is a multiple of 7\n",
    "    }\n",
    "    return 0;\n",
    "}"
   ]
  },
  {
   "cell_type": "markdown",
   "id": "1298f592",
   "metadata": {},
   "source": [
    "**Output:**\n",
    "\n",
    "0\n",
    "7\n",
    "14\n",
    "21\n",
    "28\n",
    "35\n",
    "42\n",
    "49\n",
    "56\n",
    "63\n",
    "70\n",
    "77"
   ]
  },
  {
   "cell_type": "markdown",
   "id": "f1ae93b6",
   "metadata": {},
   "source": [
    "b. Write a C++ program that uses a for loop to output the following sequence of numbers: 1000, 800, 600, …, -1000"
   ]
  },
  {
   "cell_type": "code",
   "execution_count": null,
   "id": "c46e65c6",
   "metadata": {
    "trusted": false
   },
   "outputs": [],
   "source": [
    "#include <iostream>\n",
    "using namespace std;\n",
    "\n",
    "int main(){\n",
    "    // Loop from 1000 down to -1000, decrementing 200 each time\n",
    "    for(int i = 1000; i >= -1000; i -= 200){\n",
    "        // If i is the last term, print without a comma\n",
    "        if(i == -1000)\n",
    "            cout << i;\n",
    "        else\n",
    "            cout << i << \", \";  // Print i followed by a comma and space for aesthetic\n",
    "    }\n",
    "    return 0;\n",
    "}"
   ]
  },
  {
   "cell_type": "markdown",
   "id": "3d1f3d51",
   "metadata": {},
   "source": [
    "**Output:**\n",
    "\n",
    "1000, 800, 600, 400,200, 0, -200, -400, -600, -800, -1000"
   ]
  },
  {
   "cell_type": "markdown",
   "id": "317b98ed",
   "metadata": {},
   "source": [
    "## Problem: Division?\n",
    "a. For integers $a \\geq 0$ and $b \\gt 0$, find the result of $a/b$ without using the `/`, `*` or `%` operators."
   ]
  },
  {
   "cell_type": "code",
   "execution_count": null,
   "id": "6c08a8a5",
   "metadata": {
    "trusted": false
   },
   "outputs": [],
   "source": [
    "#include <iostream>\n",
    "using namespace std;\n",
    "\n",
    "int main(){\n",
    "    int a, b;\n",
    "    cout << \"Enter int a >= 0: \\n\";\n",
    "    cin >> a;\n",
    "    cout << \"Enter int b > 0: \\n\";\n",
    "    cin >> b;\n",
    "\n",
    "    int n = 0; // Initialize the counter n\n",
    "    if(a >= 0 && b > 0){\n",
    "        while(a >= b){\n",
    "            a -= b;\n",
    "            n++;\n",
    "        }\n",
    "        cout << \"The quotient of the division is \" << n << \".\\n\";\n",
    "    }\n",
    "    else\n",
    "        cout << \"The values provided are invalid.\\n\"; // Zero is not an allowed divisor\n",
    "    return 0;\n",
    "}\n"
   ]
  },
  {
   "cell_type": "markdown",
   "id": "773c039f",
   "metadata": {},
   "source": [
    "**Input:**\n",
    "\n",
    "Enter int a >= 0:\n",
    "\n",
    "50\n",
    "\n",
    "Enter int b > 0:\n",
    "\n",
    "5\n",
    "\n",
    "**Output:**\n",
    "\n",
    "The quotient of the division is 10.\n"
   ]
  },
  {
   "cell_type": "markdown",
   "id": "4d472d5a",
   "metadata": {},
   "source": [
    "**Input:**\n",
    "\n",
    "Enter int a >= 0:\n",
    "\n",
    "100\n",
    "\n",
    "Enter int b > 0:\n",
    "\n",
    "9\n",
    "\n",
    "**Output:**\n",
    "\n",
    "The quotient of the division is 11.\n"
   ]
  },
  {
   "cell_type": "markdown",
   "id": "4bb80afb",
   "metadata": {},
   "source": [
    "**Input:**\n",
    "\n",
    "Enter int a >= 0:\n",
    "\n",
    "526\n",
    "\n",
    "Enter int b > 0:\n",
    "\n",
    "0\n",
    "\n",
    "**Output:**\n",
    "\n",
    "The values provided are invalid."
   ]
  },
  {
   "cell_type": "markdown",
   "id": "43dc5af4",
   "metadata": {},
   "source": [
    "b.  For integers $a \\geq 0$ and $b \\gt 0$, find the result of $a \\% b$ without using the /, * or % operators."
   ]
  },
  {
   "cell_type": "code",
   "execution_count": null,
   "id": "2f67a428",
   "metadata": {
    "trusted": false
   },
   "outputs": [],
   "source": [
    "#include <iostream>\n",
    "using namespace std;\n",
    "\n",
    "int main(){\n",
    "    int a, b;\n",
    "    cout << \"Enter int a >= 0: \\n\";\n",
    "    cin >> a;\n",
    "    cout << \"Enter int b > 0: \\n\";\n",
    "    cin >> b;\n",
    "\n",
    "    if(a >= 0 && b > 0){\n",
    "        while(a >= b){\n",
    "            a -= b;\n",
    "        }\n",
    "        cout << \"The remainder of the division is \" << a << \".\\n\";\n",
    "    }\n",
    "    else\n",
    "        cout << \"The values provided are invalid.\\n\"; // Zero is not an allowed divisor\n",
    "    return 0;\n",
    "}\n"
   ]
  },
  {
   "cell_type": "markdown",
   "id": "be24a46f",
   "metadata": {},
   "source": [
    "**Input:**\n",
    "\n",
    "Enter int a >= 0:\n",
    "\n",
    "88\n",
    "\n",
    "Enter int b > 0:\n",
    "\n",
    "11\n",
    "\n",
    "**Output:**\n",
    "\n",
    "The remainder of the division is 0.\n"
   ]
  },
  {
   "cell_type": "markdown",
   "id": "4da7ee03",
   "metadata": {},
   "source": [
    "**Input:**\n",
    "\n",
    "Enter int a >= 0:\n",
    "\n",
    "79\n",
    "\n",
    "Enter int b > 0:\n",
    "\n",
    "9\n",
    "\n",
    "**Output:**\n",
    "\n",
    "7\n"
   ]
  },
  {
   "cell_type": "markdown",
   "id": "29c230fc",
   "metadata": {},
   "source": [
    "**Input:**\n",
    "\n",
    "Enter int a >= 0:\n",
    "\n",
    "233\n",
    "\n",
    "Enter int b > 0:\n",
    "\n",
    "0\n",
    "\n",
    "**Output:**\n",
    "The values provided are invalid.\n"
   ]
  },
  {
   "cell_type": "markdown",
   "id": "c50b6cc4",
   "metadata": {},
   "source": [
    "## Problem: Largest Prime Factor\n",
    "\n",
    "Write a C++ program that finds the largest prime factor of any positive integer greater than 1. You must use the algorithm described in class where you successively divide by the next smallest factor until only 1 remains."
   ]
  },
  {
   "cell_type": "code",
   "execution_count": null,
   "id": "29216f04",
   "metadata": {
    "trusted": false
   },
   "outputs": [],
   "source": [
    "#include <iostream>\n",
    "using namespace std; \n",
    "\n",
    "int main()\n",
    "{\n",
    "    int largestPrime = 1;             // Stores the largest prime factor found when the program is executing\n",
    "    int current_n = 2;                // Factor that is checking\n",
    "    unsigned long long testNum = 600851475143; // The number needs to be factored\n",
    "\n",
    "    // Loop continues while testNum is greater than 1\n",
    "    while(testNum > 1){\n",
    "        if(testNum % current_n == 0){ // If current_n is a factor of testNum\n",
    "            largestPrime = current_n; // Update largest prime factor\n",
    "            testNum /= current_n;     // Divide testNum by the current factor\n",
    "        }\n",
    "        else\n",
    "            current_n++;              // Otherwise, move to the next factor\n",
    "    }\n",
    "    cout << \"The largest prime is: \" << largestPrime << endl;\n",
    "    return 0;\n",
    "}"
   ]
  },
  {
   "cell_type": "markdown",
   "id": "04a9a352",
   "metadata": {},
   "source": [
    "**Output:**\n",
    "\n",
    "The largest prime is: 6857"
   ]
  },
  {
   "cell_type": "markdown",
   "id": "c60e15ba",
   "metadata": {},
   "source": [
    "## Problem: Smallest Multiple\n",
    "\n",
    "The number 2520 is the smallest number that can be divided by each of the numbers from 1 to 10 without any remainder.\n",
    "\n",
    "Write a C++ program to determine the smallest positive number that is evenly divisible by all the numbers from 1 to 20."
   ]
  },
  {
   "cell_type": "code",
   "execution_count": null,
   "id": "58db1fed",
   "metadata": {},
   "outputs": [],
   "source": [
    "#include <iostream>\n",
    "using namespace std;\n",
    "\n",
    "int main(){\n",
    "    bool found = false;\n",
    "    int testNum = 1;\n",
    "\n",
    "    while(!found){\n",
    "        found = true;\n",
    "        for(int i = 1; i <= 20; i++){\n",
    "            if(testNum % i != 0){\n",
    "                found = false;\n",
    "                break; // If testNum is already not divisible by the current i, it is unnecessary to do more checks. Therefore, 'break' from the for loop and increment testNum for a new check\n",
    "            }\n",
    "        }\n",
    "        if(!found) testNum++;\n",
    "    }\n",
    "\n",
    "    cout << \"The smallest positive number that is evenly divisible by all the numbers from 1 to 20 is \" << testNum << \".\\n\";\n",
    "    return 0;\n",
    "}\n"
   ]
  },
  {
   "cell_type": "markdown",
   "id": "b6b97ce6",
   "metadata": {},
   "source": [
    "**Output:**\n",
    "\n",
    "The smallest positive number that is evenly divisible by all the numbers from 1 to 20 is 232792560."
   ]
  },
  {
   "cell_type": "markdown",
   "id": "d03f0482",
   "metadata": {},
   "source": [
    "## Problem: Sum of Powers\n",
    "\n",
    "For integers $a \\neq 0$ and $b \\geq 0$, write a code chunk to find the sum $a^b + a^{b-1} + ... + a^1 + a^0$."
   ]
  },
  {
   "cell_type": "code",
   "execution_count": null,
   "id": "ce95c139",
   "metadata": {
    "trusted": false
   },
   "outputs": [],
   "source": [
    "#include <iostream>\n",
    "#include <cmath>\n",
    "using namespace std;\n",
    "\n",
    "int main(){\n",
    "    int a, b;\n",
    "    int sum = 0;  // Variable to store the sum of powers\n",
    "    cout << \"Enter int a != 0: \\n\";\n",
    "    cin >> a;\n",
    "    cout << \"Enter int b >= 0: \\n\";\n",
    "    cin >> b;\n",
    "\n",
    "    // Check if input values are valid\n",
    "    if(a != 0 && b >= 0){\n",
    "        // Calculate sum of a^i from i = b down to i = 0\n",
    "        for(int i = b; i >= 0; i--){\n",
    "            sum += pow(a, i);\n",
    "        cout << sum << \" is the answer.\\n\"; // Output the result\n",
    "        }\n",
    "    }\n",
    "    else\n",
    "        cout << \"Invalid input, try again.\\n\";\n",
    "    return 0;\n",
    "}\n"
   ]
  },
  {
   "cell_type": "markdown",
   "id": "2d80c0ea",
   "metadata": {},
   "source": [
    "**Input:**\n",
    "\n",
    "Enter int a != 0:\n",
    "\n",
    "2\n",
    "\n",
    "Enter int b >= 0:\n",
    "\n",
    "4\n",
    "\n",
    "**Output:**\n",
    "\n",
    "31 is the answer."
   ]
  },
  {
   "cell_type": "markdown",
   "id": "47edf04c",
   "metadata": {},
   "source": [
    "**Input:**\n",
    "\n",
    "Enter int a != 0:\n",
    "\n",
    "4\n",
    "\n",
    "Enter int b >= 0:\n",
    "\n",
    "5\n",
    "\n",
    "**Output:**\n",
    "\n",
    "1365 is the answer.\n"
   ]
  },
  {
   "cell_type": "markdown",
   "id": "3f2c8937",
   "metadata": {},
   "source": [
    "**Input:**\n",
    "\n",
    "Enter int a != 0:\n",
    "\n",
    "0\n",
    "\n",
    "Enter int b >= 0:\n",
    "\n",
    "-1\n",
    "\n",
    "**Output:**\n",
    "\n",
    "Invalid input, try again.\n"
   ]
  },
  {
   "cell_type": "markdown",
   "id": "90eb8200",
   "metadata": {},
   "source": [
    "## Problem: Greatest Common Factor\n",
    "Write a C++ code chunk to find the the greatest common factor of two positive integers a and b. Use your program to find the greatest common factor of 75598 and 278593."
   ]
  },
  {
   "cell_type": "code",
   "execution_count": null,
   "id": "73c94c1e",
   "metadata": {
    "trusted": false
   },
   "outputs": [],
   "source": [
    "#include <iostream>\n",
    "using namespace std;\n",
    "\n",
    "int main(){\n",
    "    int a, b, result;\n",
    "    cout << \"Enter a positive integer a: \\n\";\n",
    "    cin >> a;\n",
    "    cout << \"Enter another positive integer b: \\n\";\n",
    "    cin >> b;\n",
    "\n",
    "    for(int i = a; i > 0; i--){ // a is the greatest POSSIBLE factor for both\n",
    "        if((a % i == 0) && (b % i == 0)){\n",
    "            result = i; // i is undefined outside of the for loop, therefore I use 'result' to store the value of i\n",
    "            break;\n",
    "        }\n",
    "    }\n",
    "    cout << \"The greatest common factor is \" << result << \".\\n\";\n",
    "    return 0;\n",
    "}"
   ]
  },
  {
   "cell_type": "markdown",
   "id": "10638e4c",
   "metadata": {},
   "source": [
    "**Output:**\n",
    "\n",
    "The greatest common factor is 1."
   ]
  },
  {
   "cell_type": "markdown",
   "id": "e1a01de0",
   "metadata": {},
   "source": [
    "## Problem: Square of a Sum\n",
    "\n",
    "For integer $n \\geq 1$, wrtie a code chunk to find the square of the sum of the first $n$ positive integers: $(1 + 2 + ... + n)^2$"
   ]
  },
  {
   "cell_type": "code",
   "execution_count": null,
   "id": "7e3cdab7",
   "metadata": {
    "trusted": false
   },
   "outputs": [],
   "source": [
    "#include <iostream>\n",
    "#include <cmath>\n",
    "using namespace std;\n",
    "\n",
    "int main(){\n",
    "    int n, sum;\n",
    "    cout << \"Enter a positive integer n: \\n\";\n",
    "    cin >> n;\n",
    "\n",
    "    for(int i = 1; i <= n; i++){\n",
    "        sum += i;   // Calculate the sum from one to n\n",
    "    }\n",
    "    cout << \"The square of the sum is \" << pow(sum, 2) << \".\\n\"; // Using cmath library to calculate sum^2\n",
    "    return 0;\n",
    "}"
   ]
  },
  {
   "cell_type": "markdown",
   "id": "f344c203",
   "metadata": {},
   "source": [
    "**Input:**\n",
    "\n",
    "Enter a positive integer n:\n",
    "\n",
    "5\n",
    "\n",
    "**Output:**\n",
    "\n",
    "The square of the sum is 225."
   ]
  },
  {
   "cell_type": "markdown",
   "id": "b79f04c8",
   "metadata": {},
   "source": [
    "**Input:**\n",
    "\n",
    "Enter a positive integer n:\n",
    "\n",
    "12\n",
    "\n",
    "**Output:**\n",
    "\n",
    "The square of the sum is 6084."
   ]
  },
  {
   "cell_type": "markdown",
   "id": "1fc7fdc3",
   "metadata": {},
   "source": [
    "## Problem: Fibonocci Sequence\n",
    "### Part 1\n",
    "\n",
    "The fibonocci sequence is defined as:  \n",
    "$$\\left\\{\\begin{matrix}\n",
    "f_0 = f_1 = 1\n",
    "\\\\ f_n = f_{n-1} + f_{n-2}\n",
    "\\end{matrix}\\right.$$\n",
    "\n",
    "The first 5 terms are as follows: 1, 1, 2, 3, 5.  \n",
    "\n",
    "Write a code chunk to print the first 10 Fibonocci Numbers."
   ]
  },
  {
   "cell_type": "code",
   "execution_count": null,
   "id": "288a7c6d",
   "metadata": {
    "trusted": false
   },
   "outputs": [],
   "source": [
    "#include <iostream>\n",
    "using namespace std;\n",
    "\n",
    "int main(){\n",
    "    int f1 = 1;\n",
    "    int f2 = 1;\n",
    "    cout << \"1, 1\";\n",
    "    \n",
    "    // First two Fibonocci numbers are already printed, only 10-2=8 numbers left to go\n",
    "    for(int i = 1; i <= 8; i++){\n",
    "        int next = f1 + f2;\n",
    "        cout << \",\" << next;\n",
    "        f1 = f2;\n",
    "        f2 = next;\n",
    "    }\n",
    "    return 0;\n",
    "}"
   ]
  },
  {
   "cell_type": "markdown",
   "id": "2f5e204b",
   "metadata": {},
   "source": [
    "**Output:**\n",
    "\n",
    "1,1,2,3,5,8,13,21,34,55"
   ]
  },
  {
   "cell_type": "markdown",
   "id": "08fdac9c",
   "metadata": {},
   "source": [
    "### Part 2\n",
    "\n",
    "Given two positive integers $0 \\leq a \\leq b$, display the terms of the Fibonocci Sequence as follows.  \n",
    "$$f_a, f_{a+1}, ..., f_b$$ \n",
    "For example, $a = 5$ and $b = 9$ \n",
    "would display:\n",
    "$$8, 13, 21, 34, 55$$"
   ]
  },
  {
   "cell_type": "code",
   "execution_count": null,
   "id": "28b5bdff",
   "metadata": {
    "trusted": false
   },
   "outputs": [],
   "source": [
    "#include <iostream>\n",
    "using namespace std;\n",
    "\n",
    "int main(){\n",
    "    int a, b;\n",
    "    cout << \"Enter integer a >= 0: \\n\";\n",
    "    cin >> a;\n",
    "    cout << \"Enter integer b >= a: \\n\";\n",
    "    cin >> b;\n",
    "\n",
    "    // Initial Fibonacci terms\n",
    "    int f1 = 1;\n",
    "    int f2 = 1;\n",
    "    int current;\n",
    "\n",
    "    // Special cases for small values of 'a'\n",
    "    if (a == 0) {\n",
    "        cout << \"1\";\n",
    "        if (b == 0)\n",
    "            return 0;\n",
    "        cout << \", 1\";\n",
    "        if (b == 1)\n",
    "            return 0;\n",
    "        cout << \", \";\n",
    "        f1 = 1; f2 = 2;  // Start standard sequence from index 2 onward\n",
    "        a = 2; // Adjust a to reflect the starting index\n",
    "    }\n",
    "    else if (a == 1) {\n",
    "        cout << \"1\";\n",
    "        if (b == 1)\n",
    "            return 0;\n",
    "        cout << \", \";\n",
    "        f1 = 1; f2 = 2;  // Start standard sequence from index 2 onward\n",
    "        a = 2; // Adjust a to reflect the starting index\n",
    "    }\n",
    "    else {\n",
    "        // Generate Fibonacci sequence up to position `a`\n",
    "        for (int i = 2; i <= a; i++) {\n",
    "            current = f1 + f2;\n",
    "            f1 = f2;\n",
    "            f2 = current;\n",
    "        }\n",
    "    }\n",
    "    // All above is determining f1 & f2\n",
    "\n",
    "    // Print Fibonacci terms from position `a` to `b`\n",
    "    for (int i = a; i <= b; i++) {\n",
    "        if (i > a) {\n",
    "            cout << \", \";\n",
    "        }\n",
    "        cout << f2; // Output the current Fibonacci term\n",
    "        current = f1 + f2; \n",
    "        f1 = f2; \n",
    "        f2 = current;\n",
    "    }\n",
    "\n",
    "    cout << endl; \n",
    "    return 0;\n",
    "}\n"
   ]
  },
  {
   "cell_type": "markdown",
   "id": "ad5bb2b2",
   "metadata": {},
   "source": [
    "**Input:**\n",
    "\n",
    "Enter integer a >= 0:\n",
    "\n",
    "1\n",
    "\n",
    "Enter integer b >= a:\n",
    "\n",
    "2\n",
    "\n",
    "**Output:**\n",
    "\n",
    "1, 2"
   ]
  },
  {
   "cell_type": "markdown",
   "id": "6e971e30",
   "metadata": {},
   "source": [
    "**Input:**\n",
    "\n",
    "Enter integer a >= 0:\n",
    "\n",
    "0\n",
    "\n",
    "Enter integer b >= a:\n",
    "\n",
    "10\n",
    "\n",
    "**Output:**\n",
    "\n",
    "1, 1, 2, 3, 5, 8, 13, 21, 34, 55, 89"
   ]
  },
  {
   "cell_type": "markdown",
   "id": "d7f3f48f",
   "metadata": {},
   "source": [
    "### Part 3\n",
    "\n",
    "Repeat the previous exersice for all positive integers $a$ and $b$ where your program displays the Fibonocci numbers from $a$ to $b$.\n",
    "\n",
    "Note: \n",
    "* when $a \\leq b$ your program should display $f_a, f_{a+1}, f_{a+2} ..., f_b$.  \n",
    "* when $a \\gt  b$ your program should display $f_a, f_{a-1}, f_{a-2} ..., f_b$ \n"
   ]
  },
  {
   "cell_type": "code",
   "execution_count": null,
   "id": "baeb970b",
   "metadata": {
    "trusted": false
   },
   "outputs": [],
   "source": [
    "#include <iostream>\n",
    "using namespace std;\n",
    "\n",
    "int main(){\n",
    "    int a, b;\n",
    "    cout << \"Enter integer a:\\n\";\n",
    "    cin >> a;\n",
    "    cout << \"Enter integer b:\\n\";\n",
    "    cin >> b;\n",
    "\n",
    "    int f0;\n",
    "    int f1 = 0;\n",
    "    int fn = 1; // The value of these variables will move up every time\n",
    "\n",
    "    int f_a, f_a_1, f_a_n; // Variables created for a > b; f_a is term_n, f_a_1 is term_(n-1)\n",
    "\n",
    "    if(a <= b){\n",
    "        for(int i = 0; i <= b; i++){    // If a <= b\n",
    "            f0 = f1;\n",
    "            f1 = fn;\n",
    "            if(i == a){\n",
    "                cout << fn;\n",
    "            }else if(i > a){\n",
    "                cout << \", \" << fn;\n",
    "            }\n",
    "            fn = f0 + f1;\n",
    "        }\n",
    "    }else if(a > b){                    // If a > b\n",
    "        for(int i = -1; i <= a; i++){\n",
    "            f0 = f1;\n",
    "            f1 = fn;\n",
    "            if(i == a - 1){\n",
    "                f_a_n = fn; // Get f_(n-1) in the sequence\n",
    "            }\n",
    "            else if(i == a){\n",
    "                f_a_1 = fn; // Get f_n in the sequence\n",
    "            }\n",
    "            fn = f0 + f1;\n",
    "        }\n",
    "    \n",
    "        cout << f_a_n;\n",
    "        for(int i = 0; i <= a - b - 1; i++){\n",
    "            f_a = f_a_1;\n",
    "            f_a_1 = f_a_n;\n",
    "            f_a_n = f_a - f_a_1;    // f_(n-2) = f_n - f_(n-1)\n",
    "            cout << \", \" << f_a_n;\n",
    "        }\n",
    "    }\n",
    "    return 0;\n",
    "}\n"
   ]
  },
  {
   "cell_type": "markdown",
   "id": "9eedd48c",
   "metadata": {},
   "source": [
    "**Input**\n",
    "\n",
    "5\n",
    "\n",
    "9\n",
    "\n",
    "**Output:**\n",
    "\n",
    "8, 13, 21, 34, 55"
   ]
  },
  {
   "cell_type": "markdown",
   "id": "f4a5baed",
   "metadata": {},
   "source": [
    "**Input**\n",
    "\n",
    "9\n",
    "\n",
    "5\n",
    "\n",
    "**Output:**\n",
    "\n",
    "55, 34, 21, 13, 8"
   ]
  },
  {
   "cell_type": "markdown",
   "id": "650dcbad",
   "metadata": {},
   "source": [
    "## Problem: Palindromic Numbers\n",
    "\n",
    "### Part 1\n",
    "A palindromic number reads the same both ways. For example 9, 232, and 7007 are all palindromic numbers.\n",
    "\n",
    "Write a code chunk that checks whether any positive integer $m$ is palindromic and outputs the result as follows:\n",
    "* \"Is a palindrome\"\n",
    "* \"Is not a palindrome\""
   ]
  },
  {
   "cell_type": "code",
   "execution_count": null,
   "id": "7a0d216a",
   "metadata": {
    "trusted": false
   },
   "outputs": [],
   "source": [
    "#include <iostream>\n",
    "using namespace std;\n",
    "\n",
    "int main(){\n",
    "    int n;\n",
    "    cout << \"Enter an integer: \\n\";\n",
    "    cin >> n;\n",
    "\n",
    "    int reverse = 0;\n",
    "    int nR = n; // n Remaining\n",
    "\n",
    "\n",
    "    while(nR > 0){\n",
    "        reverse = 10 * reverse + nR % 10; // Ex: when reverse = 2, new reverse = 20 + 3 = 23, i.e, pushing the digits of reverses toward right a unit 23 -> 23x\n",
    "        nR = (nR - (nR % 10)) / 10;\n",
    "    }\n",
    "    cout << n << \", \" << reverse << endl; // Debug\n",
    "    if(n == reverse)\n",
    "        cout << \"n is a palindrome number.\\n\";\n",
    "    else\n",
    "        cout << \"n isn't a palindrome number.\\n\";\n",
    "\n",
    "    return 0;\n",
    "}\n"
   ]
  },
  {
   "cell_type": "markdown",
   "id": "cd8b5586",
   "metadata": {},
   "source": [
    "**Input:**\n",
    "\n",
    "5240425\n",
    "\n",
    "**Output:**\n",
    "\n",
    "5240425, 5240425\n",
    "\n",
    "n is a palindrome number."
   ]
  },
  {
   "cell_type": "markdown",
   "id": "48747ff7",
   "metadata": {},
   "source": [
    "**Input:**\n",
    "\n",
    "250025\n",
    "\n",
    "**Output:**\n",
    "\n",
    "250025, 520052\n",
    "\n",
    "n isn't a palindrome number."
   ]
  },
  {
   "cell_type": "markdown",
   "id": "6fe31f9e",
   "metadata": {},
   "source": [
    "### Part 2\n",
    "\n",
    "Find the largest palindromic number made from the product of two 4-digit numbers.\n"
   ]
  },
  {
   "cell_type": "code",
   "execution_count": null,
   "id": "7d480802",
   "metadata": {
    "trusted": false
   },
   "outputs": [],
   "source": [
    "#include <iostream>\n",
    "using namespace std;\n",
    "\n",
    "int main(){\n",
    "\n",
    "    int largest = 0;\n",
    "    int nR, reverse; // nR: Product of two four-digit integers\n",
    "\n",
    "    for(int i = 1000; i <= 9999; i++){\n",
    "        for(int m = 1000; m <= 9999; m++){\n",
    "            nR = i * m; // Start trying from 1000*1000 ...\n",
    "            reverse = 0;\n",
    "            while(nR > 0){ // Checking if the number is a palindromic number\n",
    "                reverse = 10 * reverse + nR % 10; // Ex: when reverse = 2, new reverse = 20 + 3 = 23, i.e, pushing the digits of reverses toward right a unit 23 -> 23x\n",
    "                nR = (nR - (nR % 10)) / 10;\n",
    "            }\n",
    "            if(i * m == reverse && i * m > largest) // If this number is the largest palindromic number so far\n",
    "                largest = i * m; // Store it in 'largest'\n",
    "        }\n",
    "    }\n",
    "    cout << largest; // It takes my computer three seconds\n",
    "    return 0;\n",
    "}\n"
   ]
  },
  {
   "cell_type": "markdown",
   "id": "b0d8ed01",
   "metadata": {},
   "source": [
    "**Output:**\n",
    "\n",
    "99000099"
   ]
  }
 ],
 "metadata": {
  "kernelspec": {
   "display_name": "Python (Pyodide)",
   "language": "python",
   "name": "python"
  },
  "language_info": {
   "codemirror_mode": "text/x-c++src",
   "file_extension": ".cpp",
   "mimetype": "text/x-c++src",
   "name": "c++",
   "version": "17"
  }
 },
 "nbformat": 4,
 "nbformat_minor": 5
}
