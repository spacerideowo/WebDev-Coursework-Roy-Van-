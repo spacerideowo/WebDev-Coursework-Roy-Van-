{
 "cells": [
  {
   "cell_type": "markdown",
   "metadata": {},
   "source": [
    "# Practice Problems\n",
    "\n",
    "For all of these questions, try to **predict the output before you run the code**. These questions are similar to what you should expect on our next quiz.\n",
    "\n",
    "## Question 1:\n",
    "What is the exact output of the code block below?"
   ]
  },
  {
   "cell_type": "code",
   "execution_count": 6,
   "metadata": {
    "trusted": true
   },
   "outputs": [],
   "source": [
    "#include <iostream>\n",
    "using namespace std;"
   ]
  },
  {
   "cell_type": "code",
   "execution_count": null,
   "metadata": {
    "trusted": true
   },
   "outputs": [],
   "source": [
    "int n = 4, k = 2;\n",
    "\n",
    "cout << ++n << endl;\n",
    "cout << n << endl;\n",
    "cout << n++ << endl;\n",
    "cout << n << endl;\n",
    "cout << -n << endl;\n",
    "cout << n << endl;\n",
    "\n",
    "cout << --n << endl;\n",
    "cout << n << endl;\n",
    "\n",
    "cout << n-- << endl;\n",
    "cout << n << endl;\n",
    "\n",
    "cout << n + k << endl;\n",
    "cout << n << endl;\n",
    "cout << k << endl;\n",
    "cout << n << k << endl;\n",
    "cout << n << endl;\n",
    "cout << \" \" << n << endl;\n",
    "cout << \" n\" << endl;\n",
    "cout << \"\\n\" << endl;\n",
    "cout << \" n * n = \"; //CAREFUL!\n",
    "cout << n * n << endl;\n",
    "cout << 'n' << endl;"
   ]
  },
  {
   "cell_type": "markdown",
   "id": "19a94aa8",
   "metadata": {},
   "source": [
    "int n = 4, k = 2;\n",
    "\n",
    "cout << ++n << endl;        5\n",
    "cout << n << endl;          5\n",
    "cout << n++ << endl;        5\n",
    "cout << n << endl;          6\n",
    "cout << -n << endl;         -6\n",
    "cout << n << endl;          6\n",
    "\n",
    "cout << --n << endl;        5\n",
    "cout << n << endl;          5\n",
    "\n",
    "cout << n-- << endl;        5\n",
    "cout << n << endl;          4\n",
    "\n",
    "cout << n + k << endl;      6\n",
    "cout << n << endl;          4\n",
    "cout << k << endl;          2\n",
    "cout << n << k << endl;     42\n",
    "cout << n << endl;          4\n",
    "cout << \" \" << n << endl;    4\n",
    "cout << \" n\" << endl;        n\n",
    "cout << \"\\n\" << endl;      \n",
    "cout << \" n * n = \"; //CAREFUL! n * n\n",
    "cout << n * n << endl;          16\n",
    "cout << 'n' << endl;            n"
   ]
  },
  {
   "cell_type": "markdown",
   "metadata": {},
   "source": [
    "## Question 2\n",
    "\n",
    "Describe the output of the code block below?\n"
   ]
  },
  {
   "cell_type": "code",
   "execution_count": null,
   "metadata": {
    "trusted": true
   },
   "outputs": [],
   "source": [
    "int n = 3;\n",
    "\n",
    "while (n >= 0){\n",
    "    cout << n * n << endl;\n",
    "    --n;\n",
    "}\n",
    "cout << n << endl;\n",
    "while (n < 4)\n",
    "    cout << ++n << endl;\n",
    "\n",
    "cout << n << endl;\n",
    "\n",
    "while (n >= 0){\n",
    "    cout << n << endl;\n",
    "    n /= 2;\n",
    "}"
   ]
  },
  {
   "cell_type": "markdown",
   "metadata": {},
   "source": [
    "## Question 3\n",
    "\n",
    "What is the output of the codeblock below?"
   ]
  },
  {
   "cell_type": "code",
   "execution_count": null,
   "metadata": {
    "trusted": true
   },
   "outputs": [],
   "source": [
    "int n;\n",
    "cout << (n = 4) << endl;\n",
    "cout << (n == 4) << endl;\n",
    "cout << (n > 3) << endl;\n",
    "cout << (n < 4) << endl;\n",
    "cout << (n = 0) << endl;\n",
    "cout << (n == 0) << endl;\n",
    "cout << (n > 0) << endl;\n",
    "cout << (n && true) << endl;\n",
    "cout << (n || true) << endl;\n",
    "cout << (!n) << endl;"
   ]
  },
  {
   "cell_type": "markdown",
   "metadata": {},
   "source": [
    "## Question 4\n",
    "\n",
    "What is the output of the following code block?"
   ]
  },
  {
   "cell_type": "code",
   "execution_count": null,
   "metadata": {
    "trusted": true
   },
   "outputs": [],
   "source": [
    "int i = 5, j = 6, k = 7, n = 3;\n",
    "cout << i + j * k - k % n << endl;\n",
    "cout << i / n << endl;"
   ]
  },
  {
   "cell_type": "markdown",
   "metadata": {},
   "source": [
    "## Question 5\n",
    "What is the output of the following code block?"
   ]
  },
  {
   "cell_type": "code",
   "execution_count": null,
   "metadata": {
    "trusted": true
   },
   "outputs": [],
   "source": [
    "int found = 0, count = 5;\n",
    "\n",
    "if (!found || --count == 0)\n",
    "    cout << \"danger\" << endl;\n",
    "\n",
    "cout << \"count = \" << count << endl;"
   ]
  },
  {
   "cell_type": "markdown",
   "metadata": {},
   "source": [
    "## Question 6\n",
    "\n",
    "Remove all unnecessary tests from the nested conditional statement below."
   ]
  },
  {
   "cell_type": "code",
   "execution_count": 8,
   "metadata": {
    "trusted": true
   },
   "outputs": [
    {
     "name": "stdout",
     "output_type": "stream",
     "text": [
      "Enter your monthly income: 2222\n",
      "You are living in moderate comfort.\n"
     ]
    }
   ],
   "source": [
    "float income;\n",
    "cout << \"Enter your monthly income: \";\n",
    "\n",
    "cin >> income;\n",
    "\n",
    "if (income < 0.0)\n",
    "    cout << \"You are going farther into debt every month.\" << endl;\n",
    "else if (income >= 0.0 && income < 1200.00)\n",
    "    cout << \"You are living below the poverty line.\" << endl;\n",
    "else if (income >= 1200.00 && income < 2500.00)\n",
    "    cout << \"You are living in moderate comfort.\" << endl;\n",
    "else if (income >= 2500.00)\n",
    "    cout << \"You are well off.\" << endl;"
   ]
  },
  {
   "cell_type": "markdown",
   "metadata": {},
   "source": [
    "## Question 7\n",
    "\n",
    "* What will be the output of the fragment below if the interactive user enters the integer value 0 ?\n",
    "* What will be the output of the fragment below if the interactive user enters the integer value 15 ?\n",
    "* What will be the output of the fragment below if the interactive user enters the integer value 7 ?\n",
    "* What values for n will cause the output of the fragment above to be \"not interesting\"?"
   ]
  },
  {
   "cell_type": "code",
   "execution_count": null,
   "metadata": {
    "trusted": true
   },
   "outputs": [],
   "source": [
    "int n;\n",
    "cout << \"Enter an integer: \";\n",
    "cin >> n;\n",
    "\n",
    "if (n < 10)\n",
    "    cout << \"less than 10\" << endl;\n",
    "else if (n > 5)\n",
    "    cout << \"greater than 5\" << endl;\n",
    "else\n",
    "    cout << \"not interesting\" << endl;"
   ]
  },
  {
   "cell_type": "markdown",
   "metadata": {},
   "source": [
    "## Question 8\n",
    "\n",
    "Correct the mistake(s) in the following code so that the code does as the programmer intended."
   ]
  },
  {
   "cell_type": "code",
   "execution_count": null,
   "metadata": {
    "trusted": true
   },
   "outputs": [],
   "source": [
    "int n = 5;\n",
    "if (n = 0)\n",
    " cout << \"n is zero\" << \".\\n\";\n",
    "else\n",
    " cout << \"n is not zero\" << \".\\n\";\n",
    " cout << \"The square of n is \" << n * n << '.\\n';"
   ]
  },
  {
   "cell_type": "markdown",
   "metadata": {},
   "source": [
    "## Question 9\n",
    "\n",
    "What is the output of the following code chunk?"
   ]
  },
  {
   "cell_type": "code",
   "execution_count": null,
   "metadata": {
    "trusted": true
   },
   "outputs": [],
   "source": [
    "int n;\n",
    "float x = 3.8;\n",
    "\n",
    "n = int(x);\n",
    "\n",
    "cout << \"n = \" << n << endl;"
   ]
  },
  {
   "cell_type": "markdown",
   "metadata": {},
   "source": [
    "## Question 10\n",
    "\n",
    "Fix the following infinite loop so that it produces the desired output."
   ]
  },
  {
   "cell_type": "code",
   "execution_count": null,
   "metadata": {
    "trusted": true
   },
   "outputs": [],
   "source": [
    "cout << \"Here's a list of the ASCII values of all the upper\" << \" case letters.\\n\";\n",
    "\n",
    "char letter = 'A';\n",
    "\n",
    "while (letter <= 'Z')\n",
    "    cout << letter << \" \" << int(letter) << endl;"
   ]
  },
  {
   "cell_type": "markdown",
   "metadata": {},
   "source": [
    "## Question 11\n",
    "\n",
    "Create a function `void digit_name(int d)` that takes a digit as in integer where $0 \\leq d \\leq 9$ and outputs (using `cout`) the English word for that digit. For example `digitName(5);` should output `Five`."
   ]
  },
  {
   "cell_type": "code",
   "execution_count": 10,
   "metadata": {
    "trusted": true
   },
   "outputs": [],
   "source": [
    "void digitName(int d){\n",
    "    \n",
    "    return;\n",
    "}\n",
    "\n",
    "digitName(5); // should output \"Five\""
   ]
  },
  {
   "cell_type": "markdown",
   "metadata": {},
   "source": [
    "## Question 12\n",
    "\n",
    "Write a function void `sortThree(int a, int b, int c)` that outputs `a`, `b` and `c` in increasing numerical order. For example, `sortThree(4, 2, -5);` shoud output \"-5, 2, 4\"."
   ]
  },
  {
   "cell_type": "code",
   "execution_count": null,
   "metadata": {
    "trusted": true
   },
   "outputs": [],
   "source": [
    "void sortThree(int a, int b, int c){\n",
    "    \n",
    "    \n",
    "    return;\n",
    "}\n",
    "\n",
    "sortThree(4, 2, -5); // should output \"-5, 2, 4\""
   ]
  }
 ],
 "metadata": {
  "kernelspec": {
   "display_name": "C++17",
   "language": "C++17",
   "name": "xcpp17"
  },
  "language_info": {
   "codemirror_mode": "text/x-c++src",
   "file_extension": ".cpp",
   "mimetype": "text/x-c++src",
   "name": "c++",
   "version": "17"
  }
 },
 "nbformat": 4,
 "nbformat_minor": 5
}
